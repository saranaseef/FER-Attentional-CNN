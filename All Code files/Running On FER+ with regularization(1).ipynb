{
 "cells": [
  {
   "cell_type": "code",
   "execution_count": 1,
   "id": "6f299d16",
   "metadata": {},
   "outputs": [],
   "source": [
    "import numpy as np"
   ]
  },
  {
   "cell_type": "code",
   "execution_count": 2,
   "id": "e02f8be5",
   "metadata": {},
   "outputs": [],
   "source": [
    "import torch"
   ]
  },
  {
   "cell_type": "code",
   "execution_count": 3,
   "id": "5201e521",
   "metadata": {},
   "outputs": [],
   "source": [
    "from __future__ import print_function\n",
    "import argparse\n",
    "import numpy  as np\n",
    "from PIL import Image\n",
    "import torch\n",
    "import torch.nn as nn\n",
    "import torch.nn.functional as F\n",
    "import torchvision\n",
    "import torch.optim as optim\n",
    "from torch.utils.data import DataLoader, Dataset\n",
    "from torch.utils.data.sampler import SubsetRandomSampler\n",
    "from torchvision import transforms"
   ]
  },
  {
   "cell_type": "code",
   "execution_count": 4,
   "id": "2e9f756b",
   "metadata": {},
   "outputs": [],
   "source": [
    "import data_loaders"
   ]
  },
  {
   "cell_type": "code",
   "execution_count": 5,
   "id": "23c620ab",
   "metadata": {},
   "outputs": [],
   "source": [
    "from data_loaders import Plain_Dataset, eval_data_dataloader"
   ]
  },
  {
   "cell_type": "code",
   "execution_count": 6,
   "id": "56d3111d",
   "metadata": {},
   "outputs": [],
   "source": [
    "from deep_emotion import Deep_Emotion"
   ]
  },
  {
   "cell_type": "code",
   "execution_count": 7,
   "id": "f4341645",
   "metadata": {},
   "outputs": [],
   "source": [
    "from generate_data import Generate_data"
   ]
  },
  {
   "cell_type": "code",
   "execution_count": 8,
   "id": "cd8b1088",
   "metadata": {},
   "outputs": [],
   "source": [
    "device = torch.device(\"cuda:0\" if torch.cuda.is_available() else \"cpu\")"
   ]
  },
  {
   "cell_type": "code",
   "execution_count": 9,
   "id": "27e7f4f5",
   "metadata": {},
   "outputs": [],
   "source": [
    "def Train(epochs,train_loader,val_loader,criterion,optmizer,device):\n",
    "    '''\n",
    "    Training Loop\n",
    "    '''\n",
    "    print(\"===================================Start Training===================================\")\n",
    "    for e in range(epochs):\n",
    "        train_loss = 0\n",
    "        validation_loss = 0\n",
    "        train_correct = 0\n",
    "        val_correct = 0\n",
    "        # Train the model  #\n",
    "        net.train()\n",
    "        for data, labels in train_loader:\n",
    "            data, labels = data.to(device), labels.to(device)\n",
    "            optmizer.zero_grad()\n",
    "            outputs = net(data)\n",
    "            #print(outputs[0])\n",
    "            #print(outputs[0])\n",
    "\n",
    "            loss = criterion(outputs,labels)\n",
    "            #print(labels[0])\n",
    "             \n",
    "            loss.backward()\n",
    "            optmizer.step()\n",
    "            train_loss += loss.item()\n",
    "            _, preds = torch.max(outputs,1)\n",
    "            train_correct += torch.sum(preds == labels.data)\n",
    "\n",
    "        #validate the model#\n",
    "        net.eval()\n",
    "        for data,labels in val_loader:\n",
    "            data, labels = data.to(device), labels.to(device)\n",
    "            val_outputs = net(data)\n",
    "            #print(val_outputs[0][3])\n",
    "            #print(labels[0])\n",
    "            val_loss = criterion(val_outputs, labels)\n",
    "            validation_loss += val_loss.item()\n",
    "            _, val_preds = torch.max(val_outputs,1)\n",
    "            val_correct += torch.sum(val_preds == labels.data)\n",
    "\n",
    "        train_loss = train_loss/len(train_dataset)\n",
    "        train_acc = train_correct.double() / len(train_dataset)\n",
    "        validation_loss =  validation_loss / len(validation_dataset)\n",
    "        val_acc = val_correct.double() / len(validation_dataset)\n",
    "        print('Epoch: {} \\tTraining Loss: {:.8f} \\tValidation Loss {:.8f} \\tTraining Acuuarcy {:.3f}% \\tValidation Acuuarcy {:.3f}%'\n",
    "                                                           .format(e+1, train_loss,validation_loss,train_acc * 100, val_acc*100))\n",
    "\n",
    "    torch.save(net.state_dict(),'deep_emotion-{}-{}-{}.pt'.format(epochs,batchsize,lr))\n",
    "    print(\"===================================Training Finished===================================\")\n",
    "\n"
   ]
  },
  {
   "cell_type": "code",
   "execution_count": 10,
   "id": "39755921",
   "metadata": {},
   "outputs": [
    {
     "data": {
      "text/plain": [
       "_StoreAction(option_strings=['-s', '--setup'], dest='setup', nargs=None, const=None, default=None, type=<class 'bool'>, choices=None, help='setup the dataset for the first time', metavar=None)"
      ]
     },
     "execution_count": 10,
     "metadata": {},
     "output_type": "execute_result"
    }
   ],
   "source": [
    "parser = argparse.ArgumentParser(description=\"Configuration of setup and training process\")\n",
    "parser.add_argument('-s', '--setup', type=bool, help='setup the dataset for the first time')\n",
    "  "
   ]
  },
  {
   "cell_type": "code",
   "execution_count": 11,
   "id": "1c3a45b9",
   "metadata": {},
   "outputs": [],
   "source": [
    "epochs = 1500\n",
    "lr = 0.001\n",
    "batchsize = 128"
   ]
  },
  {
   "cell_type": "code",
   "execution_count": 12,
   "id": "fbe5452b",
   "metadata": {},
   "outputs": [],
   "source": [
    "net = Deep_Emotion()"
   ]
  },
  {
   "cell_type": "code",
   "execution_count": 13,
   "id": "7782c765",
   "metadata": {},
   "outputs": [
    {
     "data": {
      "text/plain": [
       "Deep_Emotion(\n",
       "  (conv1): Conv2d(3, 10, kernel_size=(3, 3), stride=(1, 1))\n",
       "  (dropout1): Dropout(p=0.25, inplace=False)\n",
       "  (conv2): Conv2d(10, 10, kernel_size=(3, 3), stride=(1, 1))\n",
       "  (dropout2): Dropout(p=0.25, inplace=False)\n",
       "  (pool2): MaxPool2d(kernel_size=2, stride=2, padding=0, dilation=1, ceil_mode=False)\n",
       "  (conv3): Conv2d(10, 10, kernel_size=(3, 3), stride=(1, 1))\n",
       "  (dropout3): Dropout(p=0.25, inplace=False)\n",
       "  (conv4): Conv2d(10, 10, kernel_size=(3, 3), stride=(1, 1))\n",
       "  (dropout4): Dropout(p=0.25, inplace=False)\n",
       "  (pool4): MaxPool2d(kernel_size=2, stride=2, padding=0, dilation=1, ceil_mode=False)\n",
       "  (conv5): Conv2d(50, 50, kernel_size=(2, 2), stride=(1, 1))\n",
       "  (conv6): Conv2d(50, 10, kernel_size=(2, 2), stride=(1, 1))\n",
       "  (pool6): MaxPool2d(kernel_size=2, stride=2, padding=0, dilation=1, ceil_mode=False)\n",
       "  (norm): BatchNorm2d(10, eps=1e-05, momentum=0.1, affine=True, track_running_stats=True)\n",
       "  (fc1): Linear(in_features=810, out_features=100, bias=True)\n",
       "  (fc2): Linear(in_features=100, out_features=8, bias=True)\n",
       "  (softmax): Softmax(dim=1)\n",
       "  (localization): Sequential(\n",
       "    (0): Conv2d(3, 15, kernel_size=(7, 7), stride=(1, 1))\n",
       "    (1): MaxPool2d(kernel_size=2, stride=2, padding=0, dilation=1, ceil_mode=False)\n",
       "    (2): ReLU(inplace=True)\n",
       "    (3): Conv2d(15, 10, kernel_size=(5, 5), stride=(1, 1))\n",
       "    (4): MaxPool2d(kernel_size=2, stride=2, padding=0, dilation=1, ceil_mode=False)\n",
       "    (5): ReLU(inplace=True)\n",
       "  )\n",
       "  (fc_loc): Sequential(\n",
       "    (0): Linear(in_features=640, out_features=32, bias=True)\n",
       "    (1): ReLU(inplace=True)\n",
       "    (2): Linear(in_features=32, out_features=6, bias=True)\n",
       "  )\n",
       ")"
      ]
     },
     "execution_count": 13,
     "metadata": {},
     "output_type": "execute_result"
    }
   ],
   "source": [
    "net.to(device)"
   ]
  },
  {
   "cell_type": "code",
   "execution_count": 14,
   "id": "215aee48",
   "metadata": {},
   "outputs": [
    {
     "name": "stdout",
     "output_type": "stream",
     "text": [
      "Model archticture:  Deep_Emotion(\n",
      "  (conv1): Conv2d(3, 10, kernel_size=(3, 3), stride=(1, 1))\n",
      "  (dropout1): Dropout(p=0.25, inplace=False)\n",
      "  (conv2): Conv2d(10, 10, kernel_size=(3, 3), stride=(1, 1))\n",
      "  (dropout2): Dropout(p=0.25, inplace=False)\n",
      "  (pool2): MaxPool2d(kernel_size=2, stride=2, padding=0, dilation=1, ceil_mode=False)\n",
      "  (conv3): Conv2d(10, 10, kernel_size=(3, 3), stride=(1, 1))\n",
      "  (dropout3): Dropout(p=0.25, inplace=False)\n",
      "  (conv4): Conv2d(10, 10, kernel_size=(3, 3), stride=(1, 1))\n",
      "  (dropout4): Dropout(p=0.25, inplace=False)\n",
      "  (pool4): MaxPool2d(kernel_size=2, stride=2, padding=0, dilation=1, ceil_mode=False)\n",
      "  (conv5): Conv2d(50, 50, kernel_size=(2, 2), stride=(1, 1))\n",
      "  (conv6): Conv2d(50, 10, kernel_size=(2, 2), stride=(1, 1))\n",
      "  (pool6): MaxPool2d(kernel_size=2, stride=2, padding=0, dilation=1, ceil_mode=False)\n",
      "  (norm): BatchNorm2d(10, eps=1e-05, momentum=0.1, affine=True, track_running_stats=True)\n",
      "  (fc1): Linear(in_features=810, out_features=100, bias=True)\n",
      "  (fc2): Linear(in_features=100, out_features=8, bias=True)\n",
      "  (softmax): Softmax(dim=1)\n",
      "  (localization): Sequential(\n",
      "    (0): Conv2d(3, 15, kernel_size=(7, 7), stride=(1, 1))\n",
      "    (1): MaxPool2d(kernel_size=2, stride=2, padding=0, dilation=1, ceil_mode=False)\n",
      "    (2): ReLU(inplace=True)\n",
      "    (3): Conv2d(15, 10, kernel_size=(5, 5), stride=(1, 1))\n",
      "    (4): MaxPool2d(kernel_size=2, stride=2, padding=0, dilation=1, ceil_mode=False)\n",
      "    (5): ReLU(inplace=True)\n",
      "  )\n",
      "  (fc_loc): Sequential(\n",
      "    (0): Linear(in_features=640, out_features=32, bias=True)\n",
      "    (1): ReLU(inplace=True)\n",
      "    (2): Linear(in_features=32, out_features=6, bias=True)\n",
      "  )\n",
      ")\n"
     ]
    }
   ],
   "source": [
    "print(\"Model archticture: \", net)"
   ]
  },
  {
   "cell_type": "code",
   "execution_count": 15,
   "id": "a35e3f4b",
   "metadata": {},
   "outputs": [],
   "source": [
    "transformation= transforms.Compose([transforms.ToTensor(),transforms.Normalize((0.5,),(0.5,))])"
   ]
  },
  {
   "cell_type": "code",
   "execution_count": 16,
   "id": "06586c13",
   "metadata": {},
   "outputs": [],
   "source": [
    "traincsv_file = \"data2\" + \"/\"+\"train.csv\"\n",
    "validationcsv_file = \"data2\" + \"/\"+\"val.csv\""
   ]
  },
  {
   "cell_type": "code",
   "execution_count": 17,
   "id": "a172e928",
   "metadata": {},
   "outputs": [],
   "source": [
    "train_img_dir = \"data2\"+\"/\"+\"train/\""
   ]
  },
  {
   "cell_type": "code",
   "execution_count": 18,
   "id": "40b1c4b9",
   "metadata": {},
   "outputs": [],
   "source": [
    "validation_img_dir = \"data2\"+\"/\"+\"val/\""
   ]
  },
  {
   "cell_type": "code",
   "execution_count": 19,
   "id": "ed20f233",
   "metadata": {},
   "outputs": [],
   "source": [
    "train_dataset= Plain_Dataset(csv_file=traincsv_file, img_dir = train_img_dir, datatype = 'train', transform = transformation)\n"
   ]
  },
  {
   "cell_type": "code",
   "execution_count": 20,
   "id": "b7c4d7ef",
   "metadata": {},
   "outputs": [],
   "source": [
    "validation_dataset= Plain_Dataset(csv_file=validationcsv_file, img_dir = validation_img_dir, datatype = 'val', transform = transformation)\n"
   ]
  },
  {
   "cell_type": "code",
   "execution_count": 21,
   "id": "a5eb7d91",
   "metadata": {},
   "outputs": [],
   "source": [
    "train_loader= DataLoader(train_dataset,batch_size=batchsize,shuffle = True,num_workers=0)\n",
    "val_loader=   DataLoader(validation_dataset,batch_size=batchsize,shuffle = True,num_workers=0)"
   ]
  },
  {
   "cell_type": "code",
   "execution_count": 48,
   "id": "d3cb9e7b",
   "metadata": {},
   "outputs": [],
   "source": [
    "criterion= nn.CrossEntropyLoss()\n",
    "optmizer= optim.Adam(net.parameters(),lr= 0.0001, weight_decay = 0.000005)\n"
   ]
  },
  {
   "cell_type": "code",
   "execution_count": 49,
   "id": "79d1080d",
   "metadata": {},
   "outputs": [
    {
     "name": "stdout",
     "output_type": "stream",
     "text": [
      "===================================Start Training===================================\n"
     ]
    },
    {
     "name": "stderr",
     "output_type": "stream",
     "text": [
      "/home/youssef/home/youssef/Desktop/anaconda/lib/python3.9/site-packages/torch/nn/functional.py:4298: UserWarning: Default grid_sample and affine_grid behavior has changed to align_corners=False since 1.3.0. Please specify align_corners=True if the old behavior is desired. See the documentation of grid_sample for details.\n",
      "  warnings.warn(\n",
      "/home/youssef/home/youssef/Desktop/anaconda/lib/python3.9/site-packages/torch/nn/functional.py:4236: UserWarning: Default grid_sample and affine_grid behavior has changed to align_corners=False since 1.3.0. Please specify align_corners=True if the old behavior is desired. See the documentation of grid_sample for details.\n",
      "  warnings.warn(\n"
     ]
    },
    {
     "name": "stdout",
     "output_type": "stream",
     "text": [
      "Epoch: 1 \tTraining Loss: 0.01185822 \tValidation Loss 0.01284175 \tTraining Acuuarcy 75.868% \tValidation Acuuarcy 68.238%\n",
      "Epoch: 2 \tTraining Loss: 0.01186353 \tValidation Loss 0.01295151 \tTraining Acuuarcy 75.868% \tValidation Acuuarcy 66.972%\n",
      "Epoch: 3 \tTraining Loss: 0.01183078 \tValidation Loss 0.01286879 \tTraining Acuuarcy 76.350% \tValidation Acuuarcy 68.132%\n",
      "Epoch: 4 \tTraining Loss: 0.01184591 \tValidation Loss 0.01289878 \tTraining Acuuarcy 75.915% \tValidation Acuuarcy 67.886%\n",
      "Epoch: 5 \tTraining Loss: 0.01184532 \tValidation Loss 0.01289887 \tTraining Acuuarcy 75.978% \tValidation Acuuarcy 67.675%\n",
      "Epoch: 6 \tTraining Loss: 0.01185943 \tValidation Loss 0.01294597 \tTraining Acuuarcy 75.833% \tValidation Acuuarcy 66.796%\n",
      "Epoch: 7 \tTraining Loss: 0.01186904 \tValidation Loss 0.01293750 \tTraining Acuuarcy 75.802% \tValidation Acuuarcy 67.358%\n",
      "Epoch: 8 \tTraining Loss: 0.01186028 \tValidation Loss 0.01292420 \tTraining Acuuarcy 75.782% \tValidation Acuuarcy 67.183%\n",
      "Epoch: 9 \tTraining Loss: 0.01181532 \tValidation Loss 0.01290879 \tTraining Acuuarcy 76.451% \tValidation Acuuarcy 67.042%\n",
      "Epoch: 10 \tTraining Loss: 0.01184982 \tValidation Loss 0.01288720 \tTraining Acuuarcy 75.943% \tValidation Acuuarcy 67.816%\n",
      "Epoch: 11 \tTraining Loss: 0.01182550 \tValidation Loss 0.01291166 \tTraining Acuuarcy 76.354% \tValidation Acuuarcy 67.675%\n",
      "Epoch: 12 \tTraining Loss: 0.01182769 \tValidation Loss 0.01298530 \tTraining Acuuarcy 76.283% \tValidation Acuuarcy 66.760%\n",
      "Epoch: 13 \tTraining Loss: 0.01183824 \tValidation Loss 0.01294615 \tTraining Acuuarcy 76.154% \tValidation Acuuarcy 67.218%\n",
      "Epoch: 14 \tTraining Loss: 0.01183387 \tValidation Loss 0.01293182 \tTraining Acuuarcy 76.279% \tValidation Acuuarcy 67.394%\n",
      "Epoch: 15 \tTraining Loss: 0.01182852 \tValidation Loss 0.01284822 \tTraining Acuuarcy 76.334% \tValidation Acuuarcy 67.816%\n",
      "Epoch: 16 \tTraining Loss: 0.01186840 \tValidation Loss 0.01296863 \tTraining Acuuarcy 75.688% \tValidation Acuuarcy 66.972%\n",
      "Epoch: 17 \tTraining Loss: 0.01182891 \tValidation Loss 0.01295161 \tTraining Acuuarcy 76.311% \tValidation Acuuarcy 67.569%\n",
      "Epoch: 18 \tTraining Loss: 0.01183435 \tValidation Loss 0.01289590 \tTraining Acuuarcy 76.295% \tValidation Acuuarcy 67.886%\n",
      "Epoch: 19 \tTraining Loss: 0.01183331 \tValidation Loss 0.01286513 \tTraining Acuuarcy 76.185% \tValidation Acuuarcy 68.308%\n",
      "Epoch: 20 \tTraining Loss: 0.01183204 \tValidation Loss 0.01294828 \tTraining Acuuarcy 76.291% \tValidation Acuuarcy 67.534%\n",
      "Epoch: 21 \tTraining Loss: 0.01184037 \tValidation Loss 0.01298959 \tTraining Acuuarcy 76.181% \tValidation Acuuarcy 66.901%\n",
      "Epoch: 22 \tTraining Loss: 0.01183044 \tValidation Loss 0.01290695 \tTraining Acuuarcy 76.252% \tValidation Acuuarcy 67.710%\n",
      "Epoch: 23 \tTraining Loss: 0.01183531 \tValidation Loss 0.01288495 \tTraining Acuuarcy 76.142% \tValidation Acuuarcy 67.675%\n",
      "Epoch: 24 \tTraining Loss: 0.01185970 \tValidation Loss 0.01293788 \tTraining Acuuarcy 75.809% \tValidation Acuuarcy 67.253%\n",
      "Epoch: 25 \tTraining Loss: 0.01181100 \tValidation Loss 0.01291300 \tTraining Acuuarcy 76.553% \tValidation Acuuarcy 67.640%\n",
      "Epoch: 26 \tTraining Loss: 0.01183191 \tValidation Loss 0.01290718 \tTraining Acuuarcy 76.264% \tValidation Acuuarcy 67.921%\n",
      "Epoch: 27 \tTraining Loss: 0.01182950 \tValidation Loss 0.01292559 \tTraining Acuuarcy 76.291% \tValidation Acuuarcy 67.253%\n",
      "Epoch: 28 \tTraining Loss: 0.01186402 \tValidation Loss 0.01294840 \tTraining Acuuarcy 75.727% \tValidation Acuuarcy 66.866%\n",
      "Epoch: 29 \tTraining Loss: 0.01182826 \tValidation Loss 0.01290289 \tTraining Acuuarcy 76.346% \tValidation Acuuarcy 67.288%\n",
      "Epoch: 30 \tTraining Loss: 0.01185659 \tValidation Loss 0.01284489 \tTraining Acuuarcy 75.966% \tValidation Acuuarcy 68.554%\n",
      "Epoch: 31 \tTraining Loss: 0.01184066 \tValidation Loss 0.01291642 \tTraining Acuuarcy 76.134% \tValidation Acuuarcy 67.358%\n",
      "Epoch: 32 \tTraining Loss: 0.01183229 \tValidation Loss 0.01293690 \tTraining Acuuarcy 76.240% \tValidation Acuuarcy 67.288%\n",
      "Epoch: 33 \tTraining Loss: 0.01182770 \tValidation Loss 0.01299880 \tTraining Acuuarcy 76.350% \tValidation Acuuarcy 66.796%\n",
      "Epoch: 34 \tTraining Loss: 0.01184630 \tValidation Loss 0.01296952 \tTraining Acuuarcy 76.029% \tValidation Acuuarcy 67.358%\n",
      "Epoch: 35 \tTraining Loss: 0.01184267 \tValidation Loss 0.01296564 \tTraining Acuuarcy 76.080% \tValidation Acuuarcy 67.534%\n",
      "Epoch: 36 \tTraining Loss: 0.01186654 \tValidation Loss 0.01296218 \tTraining Acuuarcy 75.743% \tValidation Acuuarcy 66.901%\n",
      "Epoch: 37 \tTraining Loss: 0.01183655 \tValidation Loss 0.01291054 \tTraining Acuuarcy 76.130% \tValidation Acuuarcy 67.816%\n",
      "Epoch: 38 \tTraining Loss: 0.01184110 \tValidation Loss 0.01293840 \tTraining Acuuarcy 76.130% \tValidation Acuuarcy 67.358%\n",
      "Epoch: 39 \tTraining Loss: 0.01184358 \tValidation Loss 0.01288854 \tTraining Acuuarcy 75.978% \tValidation Acuuarcy 68.273%\n",
      "Epoch: 40 \tTraining Loss: 0.01184336 \tValidation Loss 0.01288449 \tTraining Acuuarcy 76.134% \tValidation Acuuarcy 67.745%\n",
      "Epoch: 41 \tTraining Loss: 0.01183946 \tValidation Loss 0.01286141 \tTraining Acuuarcy 76.154% \tValidation Acuuarcy 68.027%\n",
      "Epoch: 42 \tTraining Loss: 0.01182147 \tValidation Loss 0.01294750 \tTraining Acuuarcy 76.381% \tValidation Acuuarcy 67.323%\n",
      "Epoch: 43 \tTraining Loss: 0.01184418 \tValidation Loss 0.01293388 \tTraining Acuuarcy 76.060% \tValidation Acuuarcy 67.288%\n",
      "Epoch: 44 \tTraining Loss: 0.01183178 \tValidation Loss 0.01292855 \tTraining Acuuarcy 76.154% \tValidation Acuuarcy 67.253%\n",
      "Epoch: 45 \tTraining Loss: 0.01183028 \tValidation Loss 0.01291114 \tTraining Acuuarcy 76.236% \tValidation Acuuarcy 67.253%\n",
      "Epoch: 46 \tTraining Loss: 0.01185348 \tValidation Loss 0.01294607 \tTraining Acuuarcy 75.966% \tValidation Acuuarcy 67.429%\n",
      "Epoch: 47 \tTraining Loss: 0.01184599 \tValidation Loss 0.01292652 \tTraining Acuuarcy 75.978% \tValidation Acuuarcy 67.675%\n",
      "Epoch: 48 \tTraining Loss: 0.01181473 \tValidation Loss 0.01288567 \tTraining Acuuarcy 76.491% \tValidation Acuuarcy 67.956%\n",
      "Epoch: 49 \tTraining Loss: 0.01180096 \tValidation Loss 0.01286485 \tTraining Acuuarcy 76.667% \tValidation Acuuarcy 68.062%\n",
      "Epoch: 50 \tTraining Loss: 0.01182082 \tValidation Loss 0.01291504 \tTraining Acuuarcy 76.381% \tValidation Acuuarcy 67.851%\n",
      "Epoch: 51 \tTraining Loss: 0.01183340 \tValidation Loss 0.01280649 \tTraining Acuuarcy 76.275% \tValidation Acuuarcy 68.484%\n",
      "Epoch: 52 \tTraining Loss: 0.01181938 \tValidation Loss 0.01296245 \tTraining Acuuarcy 76.448% \tValidation Acuuarcy 67.992%\n",
      "Epoch: 53 \tTraining Loss: 0.01181750 \tValidation Loss 0.01289423 \tTraining Acuuarcy 76.534% \tValidation Acuuarcy 67.605%\n",
      "Epoch: 54 \tTraining Loss: 0.01183091 \tValidation Loss 0.01289894 \tTraining Acuuarcy 76.193% \tValidation Acuuarcy 67.534%\n",
      "Epoch: 55 \tTraining Loss: 0.01181920 \tValidation Loss 0.01296186 \tTraining Acuuarcy 76.404% \tValidation Acuuarcy 67.323%\n",
      "Epoch: 56 \tTraining Loss: 0.01181580 \tValidation Loss 0.01287660 \tTraining Acuuarcy 76.479% \tValidation Acuuarcy 68.167%\n",
      "Epoch: 57 \tTraining Loss: 0.01183308 \tValidation Loss 0.01297977 \tTraining Acuuarcy 76.213% \tValidation Acuuarcy 66.901%\n",
      "Epoch: 58 \tTraining Loss: 0.01181657 \tValidation Loss 0.01289617 \tTraining Acuuarcy 76.342% \tValidation Acuuarcy 67.710%\n",
      "Epoch: 59 \tTraining Loss: 0.01181594 \tValidation Loss 0.01287705 \tTraining Acuuarcy 76.455% \tValidation Acuuarcy 67.710%\n",
      "Epoch: 60 \tTraining Loss: 0.01181566 \tValidation Loss 0.01288169 \tTraining Acuuarcy 76.577% \tValidation Acuuarcy 67.886%\n",
      "Epoch: 61 \tTraining Loss: 0.01184775 \tValidation Loss 0.01291071 \tTraining Acuuarcy 75.907% \tValidation Acuuarcy 67.147%\n",
      "Epoch: 62 \tTraining Loss: 0.01181692 \tValidation Loss 0.01289095 \tTraining Acuuarcy 76.498% \tValidation Acuuarcy 67.710%\n",
      "Epoch: 63 \tTraining Loss: 0.01181631 \tValidation Loss 0.01292545 \tTraining Acuuarcy 76.424% \tValidation Acuuarcy 67.358%\n",
      "Epoch: 64 \tTraining Loss: 0.01183025 \tValidation Loss 0.01288699 \tTraining Acuuarcy 76.275% \tValidation Acuuarcy 68.062%\n",
      "Epoch: 65 \tTraining Loss: 0.01183030 \tValidation Loss 0.01295344 \tTraining Acuuarcy 76.201% \tValidation Acuuarcy 67.042%\n",
      "Epoch: 66 \tTraining Loss: 0.01180969 \tValidation Loss 0.01293660 \tTraining Acuuarcy 76.604% \tValidation Acuuarcy 67.816%\n",
      "Epoch: 67 \tTraining Loss: 0.01184757 \tValidation Loss 0.01289871 \tTraining Acuuarcy 75.954% \tValidation Acuuarcy 67.921%\n",
      "Epoch: 68 \tTraining Loss: 0.01181260 \tValidation Loss 0.01292689 \tTraining Acuuarcy 76.526% \tValidation Acuuarcy 66.725%\n",
      "Epoch: 69 \tTraining Loss: 0.01182819 \tValidation Loss 0.01287762 \tTraining Acuuarcy 76.322% \tValidation Acuuarcy 68.097%\n",
      "Epoch: 70 \tTraining Loss: 0.01182883 \tValidation Loss 0.01289207 \tTraining Acuuarcy 76.244% \tValidation Acuuarcy 67.745%\n",
      "Epoch: 71 \tTraining Loss: 0.01179713 \tValidation Loss 0.01295338 \tTraining Acuuarcy 76.655% \tValidation Acuuarcy 66.866%\n",
      "Epoch: 72 \tTraining Loss: 0.01181481 \tValidation Loss 0.01297365 \tTraining Acuuarcy 76.518% \tValidation Acuuarcy 66.796%\n",
      "Epoch: 73 \tTraining Loss: 0.01182745 \tValidation Loss 0.01298402 \tTraining Acuuarcy 76.295% \tValidation Acuuarcy 66.374%\n",
      "Epoch: 74 \tTraining Loss: 0.01180709 \tValidation Loss 0.01290767 \tTraining Acuuarcy 76.667% \tValidation Acuuarcy 67.077%\n",
      "Epoch: 75 \tTraining Loss: 0.01183254 \tValidation Loss 0.01292915 \tTraining Acuuarcy 76.158% \tValidation Acuuarcy 67.569%\n",
      "Epoch: 76 \tTraining Loss: 0.01180993 \tValidation Loss 0.01291108 \tTraining Acuuarcy 76.475% \tValidation Acuuarcy 67.358%\n",
      "Epoch: 77 \tTraining Loss: 0.01179167 \tValidation Loss 0.01296608 \tTraining Acuuarcy 76.741% \tValidation Acuuarcy 67.147%\n",
      "Epoch: 78 \tTraining Loss: 0.01181696 \tValidation Loss 0.01293019 \tTraining Acuuarcy 76.483% \tValidation Acuuarcy 67.112%\n",
      "Epoch: 79 \tTraining Loss: 0.01182493 \tValidation Loss 0.01289440 \tTraining Acuuarcy 76.369% \tValidation Acuuarcy 67.745%\n",
      "Epoch: 80 \tTraining Loss: 0.01181722 \tValidation Loss 0.01292241 \tTraining Acuuarcy 76.440% \tValidation Acuuarcy 66.936%\n",
      "Epoch: 81 \tTraining Loss: 0.01181719 \tValidation Loss 0.01297966 \tTraining Acuuarcy 76.526% \tValidation Acuuarcy 67.640%\n",
      "Epoch: 82 \tTraining Loss: 0.01183372 \tValidation Loss 0.01291981 \tTraining Acuuarcy 76.248% \tValidation Acuuarcy 67.640%\n",
      "Epoch: 83 \tTraining Loss: 0.01180554 \tValidation Loss 0.01292408 \tTraining Acuuarcy 76.510% \tValidation Acuuarcy 67.394%\n",
      "Epoch: 84 \tTraining Loss: 0.01181092 \tValidation Loss 0.01294455 \tTraining Acuuarcy 76.467% \tValidation Acuuarcy 67.323%\n",
      "Epoch: 85 \tTraining Loss: 0.01180078 \tValidation Loss 0.01292679 \tTraining Acuuarcy 76.643% \tValidation Acuuarcy 67.358%\n",
      "Epoch: 86 \tTraining Loss: 0.01182786 \tValidation Loss 0.01290874 \tTraining Acuuarcy 76.213% \tValidation Acuuarcy 67.605%\n",
      "Epoch: 87 \tTraining Loss: 0.01181858 \tValidation Loss 0.01290975 \tTraining Acuuarcy 76.487% \tValidation Acuuarcy 67.534%\n",
      "Epoch: 88 \tTraining Loss: 0.01182841 \tValidation Loss 0.01290823 \tTraining Acuuarcy 76.326% \tValidation Acuuarcy 67.358%\n",
      "Epoch: 89 \tTraining Loss: 0.01182694 \tValidation Loss 0.01286177 \tTraining Acuuarcy 76.326% \tValidation Acuuarcy 67.429%\n",
      "Epoch: 90 \tTraining Loss: 0.01183593 \tValidation Loss 0.01293765 \tTraining Acuuarcy 76.318% \tValidation Acuuarcy 67.288%\n",
      "Epoch: 91 \tTraining Loss: 0.01181110 \tValidation Loss 0.01285983 \tTraining Acuuarcy 76.530% \tValidation Acuuarcy 68.590%\n",
      "Epoch: 92 \tTraining Loss: 0.01180539 \tValidation Loss 0.01292452 \tTraining Acuuarcy 76.577% \tValidation Acuuarcy 67.569%\n",
      "Epoch: 93 \tTraining Loss: 0.01180993 \tValidation Loss 0.01288586 \tTraining Acuuarcy 76.404% \tValidation Acuuarcy 68.343%\n",
      "Epoch: 94 \tTraining Loss: 0.01180826 \tValidation Loss 0.01291186 \tTraining Acuuarcy 76.526% \tValidation Acuuarcy 67.675%\n",
      "Epoch: 95 \tTraining Loss: 0.01180680 \tValidation Loss 0.01294962 \tTraining Acuuarcy 76.620% \tValidation Acuuarcy 67.042%\n",
      "Epoch: 96 \tTraining Loss: 0.01180733 \tValidation Loss 0.01299072 \tTraining Acuuarcy 76.561% \tValidation Acuuarcy 67.464%\n",
      "Epoch: 97 \tTraining Loss: 0.01182483 \tValidation Loss 0.01295066 \tTraining Acuuarcy 76.291% \tValidation Acuuarcy 67.218%\n",
      "Epoch: 98 \tTraining Loss: 0.01181174 \tValidation Loss 0.01289324 \tTraining Acuuarcy 76.518% \tValidation Acuuarcy 68.132%\n",
      "Epoch: 99 \tTraining Loss: 0.01181429 \tValidation Loss 0.01287462 \tTraining Acuuarcy 76.385% \tValidation Acuuarcy 68.167%\n",
      "Epoch: 100 \tTraining Loss: 0.01180538 \tValidation Loss 0.01288679 \tTraining Acuuarcy 76.565% \tValidation Acuuarcy 67.992%\n",
      "Epoch: 101 \tTraining Loss: 0.01182614 \tValidation Loss 0.01299590 \tTraining Acuuarcy 76.307% \tValidation Acuuarcy 67.042%\n",
      "Epoch: 102 \tTraining Loss: 0.01180399 \tValidation Loss 0.01292373 \tTraining Acuuarcy 76.675% \tValidation Acuuarcy 67.288%\n",
      "Epoch: 103 \tTraining Loss: 0.01179321 \tValidation Loss 0.01292152 \tTraining Acuuarcy 76.784% \tValidation Acuuarcy 67.218%\n",
      "Epoch: 104 \tTraining Loss: 0.01178263 \tValidation Loss 0.01287072 \tTraining Acuuarcy 76.831% \tValidation Acuuarcy 67.921%\n",
      "Epoch: 105 \tTraining Loss: 0.01180733 \tValidation Loss 0.01297643 \tTraining Acuuarcy 76.495% \tValidation Acuuarcy 67.007%\n",
      "Epoch: 106 \tTraining Loss: 0.01178208 \tValidation Loss 0.01290124 \tTraining Acuuarcy 76.949% \tValidation Acuuarcy 68.062%\n",
      "Epoch: 107 \tTraining Loss: 0.01180845 \tValidation Loss 0.01290518 \tTraining Acuuarcy 76.467% \tValidation Acuuarcy 67.253%\n",
      "Epoch: 108 \tTraining Loss: 0.01180631 \tValidation Loss 0.01288883 \tTraining Acuuarcy 76.491% \tValidation Acuuarcy 68.484%\n",
      "Epoch: 109 \tTraining Loss: 0.01181015 \tValidation Loss 0.01293791 \tTraining Acuuarcy 76.514% \tValidation Acuuarcy 68.484%\n",
      "Epoch: 110 \tTraining Loss: 0.01179124 \tValidation Loss 0.01286162 \tTraining Acuuarcy 76.796% \tValidation Acuuarcy 67.921%\n",
      "Epoch: 111 \tTraining Loss: 0.01181837 \tValidation Loss 0.01292361 \tTraining Acuuarcy 76.267% \tValidation Acuuarcy 67.534%\n",
      "Epoch: 112 \tTraining Loss: 0.01183590 \tValidation Loss 0.01287416 \tTraining Acuuarcy 76.209% \tValidation Acuuarcy 68.062%\n",
      "Epoch: 113 \tTraining Loss: 0.01182115 \tValidation Loss 0.01284069 \tTraining Acuuarcy 76.401% \tValidation Acuuarcy 68.554%\n",
      "Epoch: 114 \tTraining Loss: 0.01180008 \tValidation Loss 0.01292466 \tTraining Acuuarcy 76.757% \tValidation Acuuarcy 67.147%\n",
      "Epoch: 115 \tTraining Loss: 0.01181629 \tValidation Loss 0.01291026 \tTraining Acuuarcy 76.311% \tValidation Acuuarcy 67.921%\n",
      "Epoch: 116 \tTraining Loss: 0.01183494 \tValidation Loss 0.01282401 \tTraining Acuuarcy 76.158% \tValidation Acuuarcy 67.816%\n",
      "Epoch: 117 \tTraining Loss: 0.01178744 \tValidation Loss 0.01292995 \tTraining Acuuarcy 76.808% \tValidation Acuuarcy 67.464%\n",
      "Epoch: 118 \tTraining Loss: 0.01180604 \tValidation Loss 0.01293499 \tTraining Acuuarcy 76.620% \tValidation Acuuarcy 67.675%\n",
      "Epoch: 119 \tTraining Loss: 0.01180552 \tValidation Loss 0.01295441 \tTraining Acuuarcy 76.542% \tValidation Acuuarcy 67.534%\n",
      "Epoch: 120 \tTraining Loss: 0.01181837 \tValidation Loss 0.01290408 \tTraining Acuuarcy 76.428% \tValidation Acuuarcy 67.921%\n",
      "Epoch: 121 \tTraining Loss: 0.01178727 \tValidation Loss 0.01288270 \tTraining Acuuarcy 76.847% \tValidation Acuuarcy 67.358%\n",
      "Epoch: 122 \tTraining Loss: 0.01179421 \tValidation Loss 0.01289662 \tTraining Acuuarcy 76.690% \tValidation Acuuarcy 67.675%\n",
      "Epoch: 123 \tTraining Loss: 0.01182809 \tValidation Loss 0.01295283 \tTraining Acuuarcy 76.220% \tValidation Acuuarcy 66.444%\n",
      "Epoch: 124 \tTraining Loss: 0.01182220 \tValidation Loss 0.01289987 \tTraining Acuuarcy 76.338% \tValidation Acuuarcy 67.921%\n",
      "Epoch: 125 \tTraining Loss: 0.01180655 \tValidation Loss 0.01291564 \tTraining Acuuarcy 76.502% \tValidation Acuuarcy 67.288%\n",
      "Epoch: 126 \tTraining Loss: 0.01180913 \tValidation Loss 0.01290541 \tTraining Acuuarcy 76.557% \tValidation Acuuarcy 67.710%\n",
      "Epoch: 127 \tTraining Loss: 0.01178698 \tValidation Loss 0.01295796 \tTraining Acuuarcy 76.757% \tValidation Acuuarcy 67.640%\n",
      "Epoch: 128 \tTraining Loss: 0.01180115 \tValidation Loss 0.01295997 \tTraining Acuuarcy 76.679% \tValidation Acuuarcy 66.796%\n",
      "Epoch: 129 \tTraining Loss: 0.01181344 \tValidation Loss 0.01284961 \tTraining Acuuarcy 76.412% \tValidation Acuuarcy 68.484%\n",
      "Epoch: 130 \tTraining Loss: 0.01181034 \tValidation Loss 0.01297035 \tTraining Acuuarcy 76.545% \tValidation Acuuarcy 67.077%\n",
      "Epoch: 131 \tTraining Loss: 0.01182684 \tValidation Loss 0.01294619 \tTraining Acuuarcy 76.267% \tValidation Acuuarcy 67.253%\n",
      "Epoch: 132 \tTraining Loss: 0.01180901 \tValidation Loss 0.01297712 \tTraining Acuuarcy 76.514% \tValidation Acuuarcy 66.655%\n",
      "Epoch: 133 \tTraining Loss: 0.01180495 \tValidation Loss 0.01292865 \tTraining Acuuarcy 76.518% \tValidation Acuuarcy 67.112%\n",
      "Epoch: 134 \tTraining Loss: 0.01181311 \tValidation Loss 0.01299005 \tTraining Acuuarcy 76.475% \tValidation Acuuarcy 66.479%\n",
      "Epoch: 135 \tTraining Loss: 0.01181942 \tValidation Loss 0.01290157 \tTraining Acuuarcy 76.326% \tValidation Acuuarcy 67.816%\n",
      "Epoch: 136 \tTraining Loss: 0.01178354 \tValidation Loss 0.01287813 \tTraining Acuuarcy 76.921% \tValidation Acuuarcy 67.992%\n",
      "Epoch: 137 \tTraining Loss: 0.01177802 \tValidation Loss 0.01291663 \tTraining Acuuarcy 76.863% \tValidation Acuuarcy 67.218%\n",
      "Epoch: 138 \tTraining Loss: 0.01179615 \tValidation Loss 0.01290763 \tTraining Acuuarcy 76.726% \tValidation Acuuarcy 67.394%\n",
      "Epoch: 139 \tTraining Loss: 0.01179990 \tValidation Loss 0.01291043 \tTraining Acuuarcy 76.569% \tValidation Acuuarcy 67.710%\n",
      "Epoch: 140 \tTraining Loss: 0.01179929 \tValidation Loss 0.01292665 \tTraining Acuuarcy 76.679% \tValidation Acuuarcy 67.218%\n",
      "Epoch: 141 \tTraining Loss: 0.01181147 \tValidation Loss 0.01296855 \tTraining Acuuarcy 76.436% \tValidation Acuuarcy 67.147%\n",
      "Epoch: 142 \tTraining Loss: 0.01182172 \tValidation Loss 0.01289999 \tTraining Acuuarcy 76.287% \tValidation Acuuarcy 67.675%\n",
      "Epoch: 143 \tTraining Loss: 0.01178651 \tValidation Loss 0.01291004 \tTraining Acuuarcy 76.866% \tValidation Acuuarcy 68.062%\n",
      "Epoch: 144 \tTraining Loss: 0.01180654 \tValidation Loss 0.01284998 \tTraining Acuuarcy 76.526% \tValidation Acuuarcy 68.238%\n",
      "Epoch: 145 \tTraining Loss: 0.01182424 \tValidation Loss 0.01284973 \tTraining Acuuarcy 76.314% \tValidation Acuuarcy 68.343%\n",
      "Epoch: 146 \tTraining Loss: 0.01180372 \tValidation Loss 0.01290825 \tTraining Acuuarcy 76.694% \tValidation Acuuarcy 67.992%\n",
      "Epoch: 147 \tTraining Loss: 0.01178145 \tValidation Loss 0.01291002 \tTraining Acuuarcy 76.953% \tValidation Acuuarcy 67.745%\n",
      "Epoch: 148 \tTraining Loss: 0.01177885 \tValidation Loss 0.01289826 \tTraining Acuuarcy 76.866% \tValidation Acuuarcy 67.745%\n",
      "Epoch: 149 \tTraining Loss: 0.01182128 \tValidation Loss 0.01291160 \tTraining Acuuarcy 76.385% \tValidation Acuuarcy 67.569%\n",
      "Epoch: 150 \tTraining Loss: 0.01180294 \tValidation Loss 0.01286054 \tTraining Acuuarcy 76.663% \tValidation Acuuarcy 68.273%\n",
      "Epoch: 151 \tTraining Loss: 0.01179992 \tValidation Loss 0.01284824 \tTraining Acuuarcy 76.632% \tValidation Acuuarcy 67.781%\n",
      "Epoch: 152 \tTraining Loss: 0.01178779 \tValidation Loss 0.01285308 \tTraining Acuuarcy 76.812% \tValidation Acuuarcy 67.921%\n",
      "Epoch: 153 \tTraining Loss: 0.01180280 \tValidation Loss 0.01290793 \tTraining Acuuarcy 76.542% \tValidation Acuuarcy 67.675%\n",
      "Epoch: 154 \tTraining Loss: 0.01178947 \tValidation Loss 0.01286594 \tTraining Acuuarcy 76.831% \tValidation Acuuarcy 68.097%\n",
      "Epoch: 155 \tTraining Loss: 0.01179666 \tValidation Loss 0.01286717 \tTraining Acuuarcy 76.647% \tValidation Acuuarcy 67.816%\n",
      "Epoch: 156 \tTraining Loss: 0.01181552 \tValidation Loss 0.01293514 \tTraining Acuuarcy 76.412% \tValidation Acuuarcy 67.605%\n",
      "Epoch: 157 \tTraining Loss: 0.01179911 \tValidation Loss 0.01291171 \tTraining Acuuarcy 76.671% \tValidation Acuuarcy 68.027%\n",
      "Epoch: 158 \tTraining Loss: 0.01179498 \tValidation Loss 0.01291323 \tTraining Acuuarcy 76.729% \tValidation Acuuarcy 67.112%\n",
      "Epoch: 159 \tTraining Loss: 0.01180127 \tValidation Loss 0.01293785 \tTraining Acuuarcy 76.714% \tValidation Acuuarcy 67.429%\n",
      "Epoch: 160 \tTraining Loss: 0.01181855 \tValidation Loss 0.01293151 \tTraining Acuuarcy 76.412% \tValidation Acuuarcy 67.745%\n",
      "Epoch: 161 \tTraining Loss: 0.01179321 \tValidation Loss 0.01294105 \tTraining Acuuarcy 76.675% \tValidation Acuuarcy 67.464%\n",
      "Epoch: 162 \tTraining Loss: 0.01181187 \tValidation Loss 0.01295877 \tTraining Acuuarcy 76.467% \tValidation Acuuarcy 67.710%\n",
      "Epoch: 163 \tTraining Loss: 0.01179112 \tValidation Loss 0.01295739 \tTraining Acuuarcy 76.812% \tValidation Acuuarcy 67.886%\n",
      "Epoch: 164 \tTraining Loss: 0.01179168 \tValidation Loss 0.01291646 \tTraining Acuuarcy 76.823% \tValidation Acuuarcy 67.675%\n",
      "Epoch: 165 \tTraining Loss: 0.01180842 \tValidation Loss 0.01294400 \tTraining Acuuarcy 76.483% \tValidation Acuuarcy 67.394%\n",
      "Epoch: 166 \tTraining Loss: 0.01176106 \tValidation Loss 0.01287339 \tTraining Acuuarcy 77.168% \tValidation Acuuarcy 67.499%\n",
      "Epoch: 167 \tTraining Loss: 0.01181575 \tValidation Loss 0.01288578 \tTraining Acuuarcy 76.495% \tValidation Acuuarcy 68.203%\n",
      "Epoch: 168 \tTraining Loss: 0.01177702 \tValidation Loss 0.01300337 \tTraining Acuuarcy 76.964% \tValidation Acuuarcy 66.655%\n",
      "Epoch: 169 \tTraining Loss: 0.01178133 \tValidation Loss 0.01298995 \tTraining Acuuarcy 76.945% \tValidation Acuuarcy 66.972%\n",
      "Epoch: 170 \tTraining Loss: 0.01181415 \tValidation Loss 0.01290964 \tTraining Acuuarcy 76.401% \tValidation Acuuarcy 67.499%\n",
      "Epoch: 171 \tTraining Loss: 0.01180198 \tValidation Loss 0.01291969 \tTraining Acuuarcy 76.596% \tValidation Acuuarcy 67.042%\n",
      "Epoch: 172 \tTraining Loss: 0.01177913 \tValidation Loss 0.01293099 \tTraining Acuuarcy 76.843% \tValidation Acuuarcy 67.464%\n",
      "Epoch: 173 \tTraining Loss: 0.01176726 \tValidation Loss 0.01295830 \tTraining Acuuarcy 77.113% \tValidation Acuuarcy 66.866%\n",
      "Epoch: 174 \tTraining Loss: 0.01178296 \tValidation Loss 0.01286398 \tTraining Acuuarcy 76.827% \tValidation Acuuarcy 68.027%\n",
      "Epoch: 175 \tTraining Loss: 0.01179379 \tValidation Loss 0.01283221 \tTraining Acuuarcy 76.745% \tValidation Acuuarcy 68.484%\n",
      "Epoch: 176 \tTraining Loss: 0.01180846 \tValidation Loss 0.01292187 \tTraining Acuuarcy 76.495% \tValidation Acuuarcy 67.464%\n",
      "Epoch: 177 \tTraining Loss: 0.01178735 \tValidation Loss 0.01288374 \tTraining Acuuarcy 76.847% \tValidation Acuuarcy 67.781%\n",
      "Epoch: 178 \tTraining Loss: 0.01179085 \tValidation Loss 0.01292619 \tTraining Acuuarcy 76.769% \tValidation Acuuarcy 67.183%\n",
      "Epoch: 179 \tTraining Loss: 0.01177757 \tValidation Loss 0.01290410 \tTraining Acuuarcy 76.972% \tValidation Acuuarcy 67.886%\n",
      "Epoch: 180 \tTraining Loss: 0.01178995 \tValidation Loss 0.01292873 \tTraining Acuuarcy 76.812% \tValidation Acuuarcy 67.534%\n",
      "Epoch: 181 \tTraining Loss: 0.01177480 \tValidation Loss 0.01291859 \tTraining Acuuarcy 76.882% \tValidation Acuuarcy 67.218%\n",
      "Epoch: 182 \tTraining Loss: 0.01177774 \tValidation Loss 0.01292510 \tTraining Acuuarcy 76.968% \tValidation Acuuarcy 67.429%\n",
      "Epoch: 183 \tTraining Loss: 0.01179646 \tValidation Loss 0.01292337 \tTraining Acuuarcy 76.702% \tValidation Acuuarcy 67.605%\n",
      "Epoch: 184 \tTraining Loss: 0.01178156 \tValidation Loss 0.01289444 \tTraining Acuuarcy 76.898% \tValidation Acuuarcy 67.394%\n",
      "Epoch: 185 \tTraining Loss: 0.01178765 \tValidation Loss 0.01290183 \tTraining Acuuarcy 76.753% \tValidation Acuuarcy 67.429%\n",
      "Epoch: 186 \tTraining Loss: 0.01180141 \tValidation Loss 0.01305030 \tTraining Acuuarcy 76.690% \tValidation Acuuarcy 66.127%\n",
      "Epoch: 187 \tTraining Loss: 0.01179011 \tValidation Loss 0.01289397 \tTraining Acuuarcy 76.796% \tValidation Acuuarcy 67.147%\n",
      "Epoch: 188 \tTraining Loss: 0.01178915 \tValidation Loss 0.01290449 \tTraining Acuuarcy 76.702% \tValidation Acuuarcy 67.429%\n",
      "Epoch: 189 \tTraining Loss: 0.01178010 \tValidation Loss 0.01290328 \tTraining Acuuarcy 76.890% \tValidation Acuuarcy 67.956%\n",
      "Epoch: 190 \tTraining Loss: 0.01179732 \tValidation Loss 0.01295790 \tTraining Acuuarcy 76.643% \tValidation Acuuarcy 66.690%\n",
      "Epoch: 191 \tTraining Loss: 0.01180251 \tValidation Loss 0.01303577 \tTraining Acuuarcy 76.600% \tValidation Acuuarcy 66.374%\n",
      "Epoch: 192 \tTraining Loss: 0.01179510 \tValidation Loss 0.01301200 \tTraining Acuuarcy 76.718% \tValidation Acuuarcy 66.796%\n",
      "Epoch: 193 \tTraining Loss: 0.01178742 \tValidation Loss 0.01294209 \tTraining Acuuarcy 76.663% \tValidation Acuuarcy 67.710%\n",
      "Epoch: 194 \tTraining Loss: 0.01179404 \tValidation Loss 0.01285740 \tTraining Acuuarcy 76.682% \tValidation Acuuarcy 67.992%\n",
      "Epoch: 195 \tTraining Loss: 0.01178379 \tValidation Loss 0.01295132 \tTraining Acuuarcy 76.964% \tValidation Acuuarcy 66.866%\n",
      "Epoch: 196 \tTraining Loss: 0.01177639 \tValidation Loss 0.01288468 \tTraining Acuuarcy 76.996% \tValidation Acuuarcy 67.781%\n",
      "Epoch: 197 \tTraining Loss: 0.01178184 \tValidation Loss 0.01288657 \tTraining Acuuarcy 76.823% \tValidation Acuuarcy 67.464%\n",
      "Epoch: 198 \tTraining Loss: 0.01180191 \tValidation Loss 0.01283822 \tTraining Acuuarcy 76.577% \tValidation Acuuarcy 68.027%\n",
      "Epoch: 199 \tTraining Loss: 0.01179126 \tValidation Loss 0.01288346 \tTraining Acuuarcy 76.726% \tValidation Acuuarcy 68.378%\n",
      "Epoch: 200 \tTraining Loss: 0.01179786 \tValidation Loss 0.01287081 \tTraining Acuuarcy 76.585% \tValidation Acuuarcy 68.132%\n",
      "Epoch: 201 \tTraining Loss: 0.01180592 \tValidation Loss 0.01290321 \tTraining Acuuarcy 76.448% \tValidation Acuuarcy 67.886%\n",
      "Epoch: 202 \tTraining Loss: 0.01177375 \tValidation Loss 0.01284766 \tTraining Acuuarcy 77.000% \tValidation Acuuarcy 67.781%\n",
      "Epoch: 203 \tTraining Loss: 0.01177817 \tValidation Loss 0.01286694 \tTraining Acuuarcy 77.090% \tValidation Acuuarcy 68.027%\n",
      "Epoch: 204 \tTraining Loss: 0.01179163 \tValidation Loss 0.01291093 \tTraining Acuuarcy 76.741% \tValidation Acuuarcy 67.816%\n",
      "Epoch: 205 \tTraining Loss: 0.01178014 \tValidation Loss 0.01294101 \tTraining Acuuarcy 76.972% \tValidation Acuuarcy 67.429%\n",
      "Epoch: 206 \tTraining Loss: 0.01179639 \tValidation Loss 0.01296857 \tTraining Acuuarcy 76.804% \tValidation Acuuarcy 67.007%\n",
      "Epoch: 207 \tTraining Loss: 0.01178301 \tValidation Loss 0.01295483 \tTraining Acuuarcy 76.804% \tValidation Acuuarcy 67.675%\n",
      "Epoch: 208 \tTraining Loss: 0.01177738 \tValidation Loss 0.01292869 \tTraining Acuuarcy 77.007% \tValidation Acuuarcy 67.569%\n",
      "Epoch: 209 \tTraining Loss: 0.01179407 \tValidation Loss 0.01293321 \tTraining Acuuarcy 76.722% \tValidation Acuuarcy 67.499%\n",
      "Epoch: 210 \tTraining Loss: 0.01179460 \tValidation Loss 0.01292203 \tTraining Acuuarcy 76.698% \tValidation Acuuarcy 67.499%\n",
      "Epoch: 211 \tTraining Loss: 0.01181091 \tValidation Loss 0.01292925 \tTraining Acuuarcy 76.408% \tValidation Acuuarcy 67.112%\n",
      "Epoch: 212 \tTraining Loss: 0.01177161 \tValidation Loss 0.01289312 \tTraining Acuuarcy 76.972% \tValidation Acuuarcy 68.203%\n",
      "Epoch: 213 \tTraining Loss: 0.01177539 \tValidation Loss 0.01286699 \tTraining Acuuarcy 76.917% \tValidation Acuuarcy 67.886%\n",
      "Epoch: 214 \tTraining Loss: 0.01177123 \tValidation Loss 0.01289170 \tTraining Acuuarcy 76.996% \tValidation Acuuarcy 68.132%\n",
      "Epoch: 215 \tTraining Loss: 0.01178037 \tValidation Loss 0.01286808 \tTraining Acuuarcy 76.917% \tValidation Acuuarcy 67.569%\n",
      "Epoch: 216 \tTraining Loss: 0.01178209 \tValidation Loss 0.01287205 \tTraining Acuuarcy 76.816% \tValidation Acuuarcy 68.308%\n",
      "Epoch: 217 \tTraining Loss: 0.01181146 \tValidation Loss 0.01287754 \tTraining Acuuarcy 76.448% \tValidation Acuuarcy 67.921%\n",
      "Epoch: 218 \tTraining Loss: 0.01178894 \tValidation Loss 0.01285209 \tTraining Acuuarcy 76.757% \tValidation Acuuarcy 67.956%\n",
      "Epoch: 219 \tTraining Loss: 0.01177344 \tValidation Loss 0.01295831 \tTraining Acuuarcy 76.960% \tValidation Acuuarcy 67.499%\n",
      "Epoch: 220 \tTraining Loss: 0.01178501 \tValidation Loss 0.01285806 \tTraining Acuuarcy 76.749% \tValidation Acuuarcy 68.273%\n",
      "Epoch: 221 \tTraining Loss: 0.01175519 \tValidation Loss 0.01293166 \tTraining Acuuarcy 77.176% \tValidation Acuuarcy 67.781%\n",
      "Epoch: 222 \tTraining Loss: 0.01178614 \tValidation Loss 0.01291220 \tTraining Acuuarcy 76.827% \tValidation Acuuarcy 67.499%\n",
      "Epoch: 223 \tTraining Loss: 0.01179509 \tValidation Loss 0.01289118 \tTraining Acuuarcy 76.710% \tValidation Acuuarcy 68.097%\n",
      "Epoch: 224 \tTraining Loss: 0.01176711 \tValidation Loss 0.01293407 \tTraining Acuuarcy 77.039% \tValidation Acuuarcy 67.675%\n",
      "Epoch: 225 \tTraining Loss: 0.01181643 \tValidation Loss 0.01294797 \tTraining Acuuarcy 76.404% \tValidation Acuuarcy 67.499%\n",
      "Epoch: 226 \tTraining Loss: 0.01178496 \tValidation Loss 0.01288050 \tTraining Acuuarcy 76.910% \tValidation Acuuarcy 67.851%\n",
      "Epoch: 227 \tTraining Loss: 0.01175746 \tValidation Loss 0.01290529 \tTraining Acuuarcy 77.278% \tValidation Acuuarcy 68.132%\n",
      "Epoch: 228 \tTraining Loss: 0.01175539 \tValidation Loss 0.01296456 \tTraining Acuuarcy 77.164% \tValidation Acuuarcy 66.198%\n",
      "Epoch: 229 \tTraining Loss: 0.01178075 \tValidation Loss 0.01292517 \tTraining Acuuarcy 76.913% \tValidation Acuuarcy 68.097%\n",
      "Epoch: 230 \tTraining Loss: 0.01179182 \tValidation Loss 0.01295434 \tTraining Acuuarcy 76.675% \tValidation Acuuarcy 67.534%\n",
      "Epoch: 231 \tTraining Loss: 0.01178446 \tValidation Loss 0.01287238 \tTraining Acuuarcy 76.808% \tValidation Acuuarcy 68.519%\n",
      "Epoch: 232 \tTraining Loss: 0.01178721 \tValidation Loss 0.01289885 \tTraining Acuuarcy 76.855% \tValidation Acuuarcy 67.394%\n",
      "Epoch: 233 \tTraining Loss: 0.01177019 \tValidation Loss 0.01296420 \tTraining Acuuarcy 77.039% \tValidation Acuuarcy 67.112%\n",
      "Epoch: 234 \tTraining Loss: 0.01180536 \tValidation Loss 0.01294060 \tTraining Acuuarcy 76.522% \tValidation Acuuarcy 66.901%\n",
      "Epoch: 235 \tTraining Loss: 0.01179057 \tValidation Loss 0.01289109 \tTraining Acuuarcy 76.726% \tValidation Acuuarcy 67.147%\n",
      "Epoch: 236 \tTraining Loss: 0.01178783 \tValidation Loss 0.01297156 \tTraining Acuuarcy 76.741% \tValidation Acuuarcy 66.796%\n",
      "Epoch: 237 \tTraining Loss: 0.01177830 \tValidation Loss 0.01291457 \tTraining Acuuarcy 76.968% \tValidation Acuuarcy 67.675%\n",
      "Epoch: 238 \tTraining Loss: 0.01177012 \tValidation Loss 0.01298394 \tTraining Acuuarcy 76.988% \tValidation Acuuarcy 66.514%\n",
      "Epoch: 239 \tTraining Loss: 0.01176886 \tValidation Loss 0.01288110 \tTraining Acuuarcy 77.090% \tValidation Acuuarcy 67.992%\n",
      "Epoch: 240 \tTraining Loss: 0.01178269 \tValidation Loss 0.01290014 \tTraining Acuuarcy 76.933% \tValidation Acuuarcy 68.203%\n",
      "Epoch: 241 \tTraining Loss: 0.01174927 \tValidation Loss 0.01291507 \tTraining Acuuarcy 77.348% \tValidation Acuuarcy 67.147%\n",
      "Epoch: 242 \tTraining Loss: 0.01179393 \tValidation Loss 0.01291303 \tTraining Acuuarcy 76.667% \tValidation Acuuarcy 67.429%\n",
      "Epoch: 243 \tTraining Loss: 0.01177563 \tValidation Loss 0.01292457 \tTraining Acuuarcy 76.878% \tValidation Acuuarcy 67.358%\n",
      "Epoch: 244 \tTraining Loss: 0.01178028 \tValidation Loss 0.01288955 \tTraining Acuuarcy 76.839% \tValidation Acuuarcy 68.167%\n",
      "Epoch: 245 \tTraining Loss: 0.01176684 \tValidation Loss 0.01291623 \tTraining Acuuarcy 77.078% \tValidation Acuuarcy 67.218%\n",
      "Epoch: 246 \tTraining Loss: 0.01177618 \tValidation Loss 0.01289445 \tTraining Acuuarcy 76.988% \tValidation Acuuarcy 67.992%\n",
      "Epoch: 247 \tTraining Loss: 0.01177751 \tValidation Loss 0.01287735 \tTraining Acuuarcy 76.925% \tValidation Acuuarcy 67.464%\n",
      "Epoch: 248 \tTraining Loss: 0.01179051 \tValidation Loss 0.01293349 \tTraining Acuuarcy 76.851% \tValidation Acuuarcy 67.781%\n",
      "Epoch: 249 \tTraining Loss: 0.01178150 \tValidation Loss 0.01289452 \tTraining Acuuarcy 76.863% \tValidation Acuuarcy 67.464%\n",
      "Epoch: 250 \tTraining Loss: 0.01179298 \tValidation Loss 0.01287884 \tTraining Acuuarcy 76.667% \tValidation Acuuarcy 67.534%\n",
      "Epoch: 251 \tTraining Loss: 0.01180724 \tValidation Loss 0.01293325 \tTraining Acuuarcy 76.565% \tValidation Acuuarcy 67.640%\n",
      "Epoch: 252 \tTraining Loss: 0.01177935 \tValidation Loss 0.01296845 \tTraining Acuuarcy 76.855% \tValidation Acuuarcy 66.620%\n",
      "Epoch: 253 \tTraining Loss: 0.01176703 \tValidation Loss 0.01287068 \tTraining Acuuarcy 77.050% \tValidation Acuuarcy 67.781%\n",
      "Epoch: 254 \tTraining Loss: 0.01178548 \tValidation Loss 0.01289501 \tTraining Acuuarcy 76.898% \tValidation Acuuarcy 68.238%\n",
      "Epoch: 255 \tTraining Loss: 0.01176461 \tValidation Loss 0.01295010 \tTraining Acuuarcy 77.078% \tValidation Acuuarcy 67.605%\n",
      "Epoch: 256 \tTraining Loss: 0.01179033 \tValidation Loss 0.01291961 \tTraining Acuuarcy 76.808% \tValidation Acuuarcy 68.097%\n",
      "Epoch: 257 \tTraining Loss: 0.01176529 \tValidation Loss 0.01287725 \tTraining Acuuarcy 77.101% \tValidation Acuuarcy 68.027%\n",
      "Epoch: 258 \tTraining Loss: 0.01177240 \tValidation Loss 0.01293424 \tTraining Acuuarcy 76.878% \tValidation Acuuarcy 67.992%\n",
      "Epoch: 259 \tTraining Loss: 0.01178561 \tValidation Loss 0.01287993 \tTraining Acuuarcy 76.796% \tValidation Acuuarcy 68.027%\n",
      "Epoch: 260 \tTraining Loss: 0.01176218 \tValidation Loss 0.01294741 \tTraining Acuuarcy 77.105% \tValidation Acuuarcy 66.303%\n",
      "Epoch: 261 \tTraining Loss: 0.01176123 \tValidation Loss 0.01288006 \tTraining Acuuarcy 77.242% \tValidation Acuuarcy 68.027%\n",
      "Epoch: 262 \tTraining Loss: 0.01178560 \tValidation Loss 0.01288592 \tTraining Acuuarcy 76.819% \tValidation Acuuarcy 67.640%\n",
      "Epoch: 263 \tTraining Loss: 0.01175919 \tValidation Loss 0.01282676 \tTraining Acuuarcy 77.215% \tValidation Acuuarcy 68.590%\n",
      "Epoch: 264 \tTraining Loss: 0.01176027 \tValidation Loss 0.01289860 \tTraining Acuuarcy 77.168% \tValidation Acuuarcy 67.605%\n",
      "Epoch: 265 \tTraining Loss: 0.01175471 \tValidation Loss 0.01292254 \tTraining Acuuarcy 77.180% \tValidation Acuuarcy 67.323%\n",
      "Epoch: 266 \tTraining Loss: 0.01176578 \tValidation Loss 0.01293384 \tTraining Acuuarcy 77.086% \tValidation Acuuarcy 66.690%\n",
      "Epoch: 267 \tTraining Loss: 0.01176719 \tValidation Loss 0.01295171 \tTraining Acuuarcy 76.972% \tValidation Acuuarcy 67.499%\n",
      "Epoch: 268 \tTraining Loss: 0.01176973 \tValidation Loss 0.01291098 \tTraining Acuuarcy 76.976% \tValidation Acuuarcy 67.781%\n",
      "Epoch: 269 \tTraining Loss: 0.01176105 \tValidation Loss 0.01293060 \tTraining Acuuarcy 77.133% \tValidation Acuuarcy 67.675%\n",
      "Epoch: 270 \tTraining Loss: 0.01177458 \tValidation Loss 0.01296715 \tTraining Acuuarcy 76.929% \tValidation Acuuarcy 67.218%\n",
      "Epoch: 271 \tTraining Loss: 0.01177684 \tValidation Loss 0.01291625 \tTraining Acuuarcy 76.847% \tValidation Acuuarcy 67.569%\n",
      "Epoch: 272 \tTraining Loss: 0.01178240 \tValidation Loss 0.01284203 \tTraining Acuuarcy 76.847% \tValidation Acuuarcy 68.484%\n",
      "Epoch: 273 \tTraining Loss: 0.01177056 \tValidation Loss 0.01296658 \tTraining Acuuarcy 77.000% \tValidation Acuuarcy 67.253%\n",
      "Epoch: 274 \tTraining Loss: 0.01174685 \tValidation Loss 0.01295668 \tTraining Acuuarcy 77.270% \tValidation Acuuarcy 67.394%\n",
      "Epoch: 275 \tTraining Loss: 0.01177975 \tValidation Loss 0.01286132 \tTraining Acuuarcy 76.913% \tValidation Acuuarcy 68.203%\n",
      "Epoch: 276 \tTraining Loss: 0.01177537 \tValidation Loss 0.01293172 \tTraining Acuuarcy 76.960% \tValidation Acuuarcy 67.956%\n",
      "Epoch: 277 \tTraining Loss: 0.01175273 \tValidation Loss 0.01292721 \tTraining Acuuarcy 77.281% \tValidation Acuuarcy 67.394%\n",
      "Epoch: 278 \tTraining Loss: 0.01178051 \tValidation Loss 0.01291568 \tTraining Acuuarcy 76.882% \tValidation Acuuarcy 67.886%\n",
      "Epoch: 279 \tTraining Loss: 0.01177603 \tValidation Loss 0.01292937 \tTraining Acuuarcy 76.929% \tValidation Acuuarcy 67.358%\n",
      "Epoch: 280 \tTraining Loss: 0.01177306 \tValidation Loss 0.01290732 \tTraining Acuuarcy 76.917% \tValidation Acuuarcy 67.499%\n",
      "Epoch: 281 \tTraining Loss: 0.01176888 \tValidation Loss 0.01291366 \tTraining Acuuarcy 77.168% \tValidation Acuuarcy 67.464%\n",
      "Epoch: 282 \tTraining Loss: 0.01177290 \tValidation Loss 0.01289273 \tTraining Acuuarcy 77.000% \tValidation Acuuarcy 67.569%\n",
      "Epoch: 283 \tTraining Loss: 0.01176478 \tValidation Loss 0.01289989 \tTraining Acuuarcy 77.129% \tValidation Acuuarcy 67.569%\n",
      "Epoch: 284 \tTraining Loss: 0.01176955 \tValidation Loss 0.01295297 \tTraining Acuuarcy 77.050% \tValidation Acuuarcy 67.323%\n",
      "Epoch: 285 \tTraining Loss: 0.01174483 \tValidation Loss 0.01293156 \tTraining Acuuarcy 77.383% \tValidation Acuuarcy 67.218%\n",
      "Epoch: 286 \tTraining Loss: 0.01173967 \tValidation Loss 0.01288110 \tTraining Acuuarcy 77.328% \tValidation Acuuarcy 68.273%\n",
      "Epoch: 287 \tTraining Loss: 0.01177906 \tValidation Loss 0.01292307 \tTraining Acuuarcy 76.945% \tValidation Acuuarcy 67.710%\n",
      "Epoch: 288 \tTraining Loss: 0.01176401 \tValidation Loss 0.01293785 \tTraining Acuuarcy 77.070% \tValidation Acuuarcy 67.464%\n",
      "Epoch: 289 \tTraining Loss: 0.01178261 \tValidation Loss 0.01289541 \tTraining Acuuarcy 76.886% \tValidation Acuuarcy 67.710%\n",
      "Epoch: 290 \tTraining Loss: 0.01175732 \tValidation Loss 0.01289396 \tTraining Acuuarcy 77.187% \tValidation Acuuarcy 67.499%\n",
      "Epoch: 291 \tTraining Loss: 0.01176942 \tValidation Loss 0.01288515 \tTraining Acuuarcy 77.086% \tValidation Acuuarcy 68.132%\n"
     ]
    },
    {
     "ename": "KeyboardInterrupt",
     "evalue": "",
     "output_type": "error",
     "traceback": [
      "\u001b[0;31m---------------------------------------------------------------------------\u001b[0m",
      "\u001b[0;31mKeyboardInterrupt\u001b[0m                         Traceback (most recent call last)",
      "Input \u001b[0;32mIn [49]\u001b[0m, in \u001b[0;36m<cell line: 1>\u001b[0;34m()\u001b[0m\n\u001b[0;32m----> 1\u001b[0m \u001b[43mTrain\u001b[49m\u001b[43m(\u001b[49m\u001b[38;5;241;43m500\u001b[39;49m\u001b[43m,\u001b[49m\u001b[43m \u001b[49m\u001b[43mtrain_loader\u001b[49m\u001b[43m,\u001b[49m\u001b[43m \u001b[49m\u001b[43mval_loader\u001b[49m\u001b[43m,\u001b[49m\u001b[43m \u001b[49m\u001b[43mcriterion\u001b[49m\u001b[43m,\u001b[49m\u001b[43m \u001b[49m\u001b[43moptmizer\u001b[49m\u001b[43m,\u001b[49m\u001b[43m \u001b[49m\u001b[43mdevice\u001b[49m\u001b[43m)\u001b[49m\n",
      "Input \u001b[0;32mIn [9]\u001b[0m, in \u001b[0;36mTrain\u001b[0;34m(epochs, train_loader, val_loader, criterion, optmizer, device)\u001b[0m\n\u001b[1;32m     20\u001b[0m loss \u001b[38;5;241m=\u001b[39m criterion(outputs,labels)\n\u001b[1;32m     21\u001b[0m \u001b[38;5;66;03m#print(labels[0])\u001b[39;00m\n\u001b[0;32m---> 23\u001b[0m \u001b[43mloss\u001b[49m\u001b[38;5;241;43m.\u001b[39;49m\u001b[43mbackward\u001b[49m\u001b[43m(\u001b[49m\u001b[43m)\u001b[49m\n\u001b[1;32m     24\u001b[0m optmizer\u001b[38;5;241m.\u001b[39mstep()\n\u001b[1;32m     25\u001b[0m train_loss \u001b[38;5;241m+\u001b[39m\u001b[38;5;241m=\u001b[39m loss\u001b[38;5;241m.\u001b[39mitem()\n",
      "File \u001b[0;32m~/home/youssef/Desktop/anaconda/lib/python3.9/site-packages/torch/_tensor.py:487\u001b[0m, in \u001b[0;36mTensor.backward\u001b[0;34m(self, gradient, retain_graph, create_graph, inputs)\u001b[0m\n\u001b[1;32m    477\u001b[0m \u001b[38;5;28;01mif\u001b[39;00m has_torch_function_unary(\u001b[38;5;28mself\u001b[39m):\n\u001b[1;32m    478\u001b[0m     \u001b[38;5;28;01mreturn\u001b[39;00m handle_torch_function(\n\u001b[1;32m    479\u001b[0m         Tensor\u001b[38;5;241m.\u001b[39mbackward,\n\u001b[1;32m    480\u001b[0m         (\u001b[38;5;28mself\u001b[39m,),\n\u001b[0;32m   (...)\u001b[0m\n\u001b[1;32m    485\u001b[0m         inputs\u001b[38;5;241m=\u001b[39minputs,\n\u001b[1;32m    486\u001b[0m     )\n\u001b[0;32m--> 487\u001b[0m \u001b[43mtorch\u001b[49m\u001b[38;5;241;43m.\u001b[39;49m\u001b[43mautograd\u001b[49m\u001b[38;5;241;43m.\u001b[39;49m\u001b[43mbackward\u001b[49m\u001b[43m(\u001b[49m\n\u001b[1;32m    488\u001b[0m \u001b[43m    \u001b[49m\u001b[38;5;28;43mself\u001b[39;49m\u001b[43m,\u001b[49m\u001b[43m \u001b[49m\u001b[43mgradient\u001b[49m\u001b[43m,\u001b[49m\u001b[43m \u001b[49m\u001b[43mretain_graph\u001b[49m\u001b[43m,\u001b[49m\u001b[43m \u001b[49m\u001b[43mcreate_graph\u001b[49m\u001b[43m,\u001b[49m\u001b[43m \u001b[49m\u001b[43minputs\u001b[49m\u001b[38;5;241;43m=\u001b[39;49m\u001b[43minputs\u001b[49m\n\u001b[1;32m    489\u001b[0m \u001b[43m\u001b[49m\u001b[43m)\u001b[49m\n",
      "File \u001b[0;32m~/home/youssef/Desktop/anaconda/lib/python3.9/site-packages/torch/autograd/__init__.py:200\u001b[0m, in \u001b[0;36mbackward\u001b[0;34m(tensors, grad_tensors, retain_graph, create_graph, grad_variables, inputs)\u001b[0m\n\u001b[1;32m    195\u001b[0m     retain_graph \u001b[38;5;241m=\u001b[39m create_graph\n\u001b[1;32m    197\u001b[0m \u001b[38;5;66;03m# The reason we repeat same the comment below is that\u001b[39;00m\n\u001b[1;32m    198\u001b[0m \u001b[38;5;66;03m# some Python versions print out the first line of a multi-line function\u001b[39;00m\n\u001b[1;32m    199\u001b[0m \u001b[38;5;66;03m# calls in the traceback and some print out the last line\u001b[39;00m\n\u001b[0;32m--> 200\u001b[0m \u001b[43mVariable\u001b[49m\u001b[38;5;241;43m.\u001b[39;49m\u001b[43m_execution_engine\u001b[49m\u001b[38;5;241;43m.\u001b[39;49m\u001b[43mrun_backward\u001b[49m\u001b[43m(\u001b[49m\u001b[43m  \u001b[49m\u001b[38;5;66;43;03m# Calls into the C++ engine to run the backward pass\u001b[39;49;00m\n\u001b[1;32m    201\u001b[0m \u001b[43m    \u001b[49m\u001b[43mtensors\u001b[49m\u001b[43m,\u001b[49m\u001b[43m \u001b[49m\u001b[43mgrad_tensors_\u001b[49m\u001b[43m,\u001b[49m\u001b[43m \u001b[49m\u001b[43mretain_graph\u001b[49m\u001b[43m,\u001b[49m\u001b[43m \u001b[49m\u001b[43mcreate_graph\u001b[49m\u001b[43m,\u001b[49m\u001b[43m \u001b[49m\u001b[43minputs\u001b[49m\u001b[43m,\u001b[49m\n\u001b[1;32m    202\u001b[0m \u001b[43m    \u001b[49m\u001b[43mallow_unreachable\u001b[49m\u001b[38;5;241;43m=\u001b[39;49m\u001b[38;5;28;43;01mTrue\u001b[39;49;00m\u001b[43m,\u001b[49m\u001b[43m \u001b[49m\u001b[43maccumulate_grad\u001b[49m\u001b[38;5;241;43m=\u001b[39;49m\u001b[38;5;28;43;01mTrue\u001b[39;49;00m\u001b[43m)\u001b[49m\n",
      "\u001b[0;31mKeyboardInterrupt\u001b[0m: "
     ]
    }
   ],
   "source": [
    "Train(500, train_loader, val_loader, criterion, optmizer, device)"
   ]
  },
  {
   "cell_type": "code",
   "execution_count": 52,
   "id": "52036671",
   "metadata": {},
   "outputs": [
    {
     "name": "stdout",
     "output_type": "stream",
     "text": [
      "Final training accuracy =  77.27\n"
     ]
    }
   ],
   "source": [
    "print(\"Final training accuracy = \", 77.270)"
   ]
  },
  {
   "cell_type": "code",
   "execution_count": 53,
   "id": "67e9eea2",
   "metadata": {},
   "outputs": [
    {
     "name": "stdout",
     "output_type": "stream",
     "text": [
      "Final testing accuracy =  68.484\n"
     ]
    }
   ],
   "source": [
    "print(\"Final testing accuracy = \", 68.484)"
   ]
  },
  {
   "cell_type": "code",
   "execution_count": 54,
   "id": "088338b3",
   "metadata": {},
   "outputs": [],
   "source": [
    "test_dataset= Plain_Dataset(csv_file=\"data2/test.csv\", img_dir = \"data2/test/\", datatype = 'test', transform = transformation)\n"
   ]
  },
  {
   "cell_type": "code",
   "execution_count": 55,
   "id": "a8da6a86",
   "metadata": {},
   "outputs": [],
   "source": [
    "test_loader=   DataLoader(test_dataset,batch_size=batchsize,shuffle = True,num_workers=0)"
   ]
  },
  {
   "cell_type": "code",
   "execution_count": 56,
   "id": "374bcc3b",
   "metadata": {},
   "outputs": [
    {
     "name": "stderr",
     "output_type": "stream",
     "text": [
      "/home/youssef/home/youssef/Desktop/anaconda/lib/python3.9/site-packages/torch/nn/functional.py:4298: UserWarning: Default grid_sample and affine_grid behavior has changed to align_corners=False since 1.3.0. Please specify align_corners=True if the old behavior is desired. See the documentation of grid_sample for details.\n",
      "  warnings.warn(\n",
      "/home/youssef/home/youssef/Desktop/anaconda/lib/python3.9/site-packages/torch/nn/functional.py:4236: UserWarning: Default grid_sample and affine_grid behavior has changed to align_corners=False since 1.3.0. Please specify align_corners=True if the old behavior is desired. See the documentation of grid_sample for details.\n",
      "  warnings.warn(\n"
     ]
    }
   ],
   "source": [
    "test_result = []\n",
    "test_loss = 0\n",
    "test_correct = 0\n",
    "for data,labels in test_loader:\n",
    "            data, labels = data.to(device), labels.to(device)\n",
    "            test_outputs = net(data)\n",
    "            #print(val_outputs[0][3])\n",
    "            #print(labels[0])\n",
    "            t_loss = criterion(test_outputs, labels)\n",
    "            test_loss += t_loss.item()\n",
    "            _, test_preds = torch.max(test_outputs,1)\n",
    "            test_result.append(torch.max(test_outputs,1))\n",
    "            test_correct += torch.sum(test_preds == labels.data)"
   ]
  },
  {
   "cell_type": "code",
   "execution_count": 57,
   "id": "eb991e35",
   "metadata": {},
   "outputs": [
    {
     "name": "stdout",
     "output_type": "stream",
     "text": [
      "Final accuracy on the testing set =  tensor(0.6618)\n"
     ]
    }
   ],
   "source": [
    "print(\"Final accuracy on the testing set = \", test_correct/7199)"
   ]
  },
  {
   "cell_type": "code",
   "execution_count": 58,
   "id": "45d12efa",
   "metadata": {},
   "outputs": [],
   "source": [
    "from sklearn.metrics import confusion_matrix\n",
    "import seaborn as sn\n",
    "import pandas as pd\n",
    "\n",
    "y_pred = []\n",
    "y_true = []\n",
    "for inputs, labels in test_loader:\n",
    "        output = net(inputs) # Feed Network\n",
    "\n",
    "        output = (torch.max(torch.exp(output), 1)[1]).data.cpu().numpy()\n",
    "        y_pred.extend(output) # Save Prediction\n",
    "        \n",
    "        labels = labels.data.cpu().numpy()\n",
    "        y_true.extend(labels) # Save Truth"
   ]
  },
  {
   "cell_type": "code",
   "execution_count": 59,
   "id": "a6e741fb",
   "metadata": {},
   "outputs": [],
   "source": [
    "classes = ('Anger', 'Contempt', 'Disgust', 'Fear', 'Happiness',\n",
    "        'Neutral', 'Sadness', 'Surprise')"
   ]
  },
  {
   "cell_type": "code",
   "execution_count": 60,
   "id": "688c4575",
   "metadata": {},
   "outputs": [
    {
     "data": {
      "image/png": "[encoded data removed]",
      "text/plain": [
       "<Figure size 864x504 with 2 Axes>"
      ]
     },
     "metadata": {
      "needs_background": "light"
     },
     "output_type": "display_data"
    }
   ],
   "source": [
    "import matplotlib.pyplot as plt\n",
    "cf_matrix = confusion_matrix(y_true, y_pred)\n",
    "df_cm = pd.DataFrame(cf_matrix / np.sum(cf_matrix, axis=1)[:, None], index = [i for i in classes],\n",
    "                     columns = [i for i in classes])\n",
    "plt.figure(figsize = (12,7))\n",
    "sn.heatmap(df_cm, annot=True)\n",
    "plt.savefig('output.png')"
   ]
  },
  {
   "cell_type": "code",
   "execution_count": 40,
   "id": "0139eba0",
   "metadata": {},
   "outputs": [],
   "source": [
    "train_labels = pd.read_csv(\"data2/train.csv\")"
   ]
  },
  {
   "cell_type": "code",
   "execution_count": 41,
   "id": "22750b35",
   "metadata": {},
   "outputs": [
    {
     "data": {
      "text/plain": [
       "5.0    9277\n",
       "4.0    6775\n",
       "7.0    3205\n",
       "6.0    3162\n",
       "0.0    2219\n",
       "3.0     586\n",
       "2.0     171\n",
       "1.0     148\n",
       "Name: emotion, dtype: int64"
      ]
     },
     "execution_count": 41,
     "metadata": {},
     "output_type": "execute_result"
    }
   ],
   "source": [
    "train_labels[\"emotion\"].value_counts()"
   ]
  },
  {
   "cell_type": "code",
   "execution_count": 61,
   "id": "7777b912",
   "metadata": {},
   "outputs": [],
   "source": [
    "from sklearn.metrics import precision_score, recall_score"
   ]
  },
  {
   "cell_type": "code",
   "execution_count": 62,
   "id": "912034b8",
   "metadata": {},
   "outputs": [
    {
     "name": "stdout",
     "output_type": "stream",
     "text": [
      "0.6648823777996901\n"
     ]
    }
   ],
   "source": [
    "print(precision_score(y_true, y_pred, average = \"micro\"))"
   ]
  },
  {
   "cell_type": "code",
   "execution_count": 63,
   "id": "f33c19b8",
   "metadata": {},
   "outputs": [
    {
     "name": "stdout",
     "output_type": "stream",
     "text": [
      "0.3904272619620637\n"
     ]
    },
    {
     "name": "stderr",
     "output_type": "stream",
     "text": [
      "/home/youssef/home/youssef/Desktop/anaconda/lib/python3.9/site-packages/sklearn/metrics/_classification.py:1318: UndefinedMetricWarning: Precision is ill-defined and being set to 0.0 in labels with no predicted samples. Use `zero_division` parameter to control this behavior.\n",
      "  _warn_prf(average, modifier, msg_start, len(result))\n"
     ]
    }
   ],
   "source": [
    "print(precision_score(y_true, y_pred, average = \"macro\"))"
   ]
  },
  {
   "cell_type": "code",
   "execution_count": 64,
   "id": "a3d72b49",
   "metadata": {},
   "outputs": [
    {
     "name": "stdout",
     "output_type": "stream",
     "text": [
      "0.6648823777996901\n"
     ]
    }
   ],
   "source": [
    "print(recall_score(y_true, y_pred, average = \"micro\"))"
   ]
  },
  {
   "cell_type": "code",
   "execution_count": 65,
   "id": "7b840a3f",
   "metadata": {},
   "outputs": [
    {
     "name": "stdout",
     "output_type": "stream",
     "text": [
      "0.37680995876212153\n"
     ]
    }
   ],
   "source": [
    "print(recall_score(y_true, y_pred, average = \"macro\"))"
   ]
  },
  {
   "cell_type": "code",
   "execution_count": null,
   "id": "4afdbd5a",
   "metadata": {},
   "outputs": [],
   "source": []
  },
  {
   "cell_type": "code",
   "execution_count": null,
   "id": "aa9dd616",
   "metadata": {},
   "outputs": [],
   "source": []
  },
  {
   "cell_type": "code",
   "execution_count": null,
   "id": "8fe55833",
   "metadata": {},
   "outputs": [],
   "source": []
  }
 ],
 "metadata": {
  "kernelspec": {
   "display_name": "Python 3 (ipykernel)",
   "language": "python",
   "name": "python3"
  },
  "language_info": {
   "codemirror_mode": {
    "name": "ipython",
    "version": 3
   },
   "file_extension": ".py",
   "mimetype": "text/x-python",
   "name": "python",
   "nbconvert_exporter": "python",
   "pygments_lexer": "ipython3",
   "version": "3.9.12"
  }
 },
 "nbformat": 4,
 "nbformat_minor": 5
}
