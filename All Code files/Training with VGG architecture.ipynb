{
 "cells": [
  {
   "cell_type": "code",
   "execution_count": 1,
   "id": "36cbd447-f85a-45cd-8c0f-8d2486cca632",
   "metadata": {},
   "outputs": [],
   "source": [
    "import numpy as np"
   ]
  },
  {
   "cell_type": "code",
   "execution_count": 2,
   "id": "c8a0413b-44e8-42a9-ba94-8748e4ed4e2d",
   "metadata": {},
   "outputs": [],
   "source": [
    "import torch"
   ]
  },
  {
   "cell_type": "code",
   "execution_count": 3,
   "id": "46a428ed-fe9b-4043-9ae3-0591a39d3086",
   "metadata": {},
   "outputs": [],
   "source": [
    "from __future__ import print_function\n",
    "import argparse\n",
    "import numpy  as np\n",
    "from PIL import Image\n",
    "import torch\n",
    "import torch.nn as nn\n",
    "import torch.nn.functional as F\n",
    "import torchvision\n",
    "import torch.optim as optim\n",
    "from torch.utils.data import DataLoader, Dataset\n",
    "from torch.utils.data.sampler import SubsetRandomSampler\n",
    "from torchvision import transforms"
   ]
  },
  {
   "cell_type": "code",
   "execution_count": 4,
   "id": "5f8bf0bd-0fec-4d58-872c-a77f6c1cdb72",
   "metadata": {},
   "outputs": [],
   "source": [
    "import data_loaders"
   ]
  },
  {
   "cell_type": "code",
   "execution_count": 5,
   "id": "1b01120c-4406-4fbb-b2a4-dada97af6f41",
   "metadata": {},
   "outputs": [],
   "source": [
    "from data_loaders import Plain_Dataset, eval_data_dataloader"
   ]
  },
  {
   "cell_type": "code",
   "execution_count": 6,
   "id": "fcef97c0-6d76-44dc-bacd-6032d3de54cb",
   "metadata": {},
   "outputs": [],
   "source": [
    "from Deep_emotion_VGG import Deep_Emotion_VGG"
   ]
  },
  {
   "cell_type": "code",
   "execution_count": 7,
   "id": "b065ac3f-5664-46d0-a0ee-a79b40121824",
   "metadata": {},
   "outputs": [
    {
     "name": "stderr",
     "output_type": "stream",
     "text": [
      "/home/youssef/.local/lib/python3.8/site-packages/torch/cuda/__init__.py:138: UserWarning: CUDA initialization: The NVIDIA driver on your system is too old (found version 11070). Please update your GPU driver by downloading and installing a new version from the URL: http://www.nvidia.com/Download/index.aspx Alternatively, go to: https://pytorch.org to install a PyTorch version that has been compiled with your version of the CUDA driver. (Triggered internally at ../c10/cuda/CUDAFunctions.cpp:108.)\n",
      "  return torch._C._cuda_getDeviceCount() > 0\n"
     ]
    }
   ],
   "source": [
    "device = torch.device(\"cuda:0\" if torch.cuda.is_available() else \"cpu\")"
   ]
  },
  {
   "cell_type": "code",
   "execution_count": 8,
   "id": "cfb2e622-3bbf-4ea5-8933-4b66a90272f5",
   "metadata": {},
   "outputs": [],
   "source": [
    "def Train(epochs,train_loader,val_loader,criterion,optmizer,device):\n",
    "    '''\n",
    "    Training Loop\n",
    "    '''\n",
    "    print(\"===================================Start Training===================================\")\n",
    "    for e in range(epochs):\n",
    "        train_loss = 0\n",
    "        validation_loss = 0\n",
    "        train_correct = 0\n",
    "        val_correct = 0\n",
    "        # Train the model  #\n",
    "        net.train()\n",
    "        count = 0\n",
    "\n",
    "        for data, labels in train_loader:\n",
    "            data, labels = data.to(device), labels.to(device)\n",
    "            optmizer.zero_grad()\n",
    "            outputs = net(data)\n",
    "            #print(outputs[0])\n",
    "            #print(outputs[0])\n",
    "            loss = criterion(outputs,labels)\n",
    "            #print(labels[0])\n",
    "            count += 1\n",
    "            loss.backward()\n",
    "            optmizer.step()\n",
    "            train_loss += loss.item()\n",
    "            _, preds = torch.max(outputs,1)\n",
    "            train_correct += torch.sum(preds == labels.data)\n",
    "\n",
    "        #validate the model#\n",
    "        net.eval()\n",
    "        for data,labels in val_loader:\n",
    "            data, labels = data.to(device), labels.to(device)\n",
    "            val_outputs = net(data)\n",
    "            #print(val_outputs[0][3])\n",
    "            #print(labels[0])\n",
    "            val_loss = criterion(val_outputs, labels)\n",
    "            validation_loss += val_loss.item()\n",
    "            _, val_preds = torch.max(val_outputs,1)\n",
    "            val_correct += torch.sum(val_preds == labels.data)\n",
    "\n",
    "        train_loss = train_loss/len(train_dataset)\n",
    "        train_acc = train_correct.double() / len(train_dataset)\n",
    "        validation_loss =  validation_loss / len(validation_dataset)\n",
    "        val_acc = val_correct.double() / len(validation_dataset)\n",
    "        print('Epoch: {} \\tTraining Loss: {:.8f} \\tValidation Loss {:.8f} \\tTraining Acuuarcy {:.3f}% \\tValidation Acuuarcy {:.3f}%'\n",
    "                                                           .format(e+1, train_loss,validation_loss,train_acc * 100, val_acc*100))\n",
    "\n",
    "    torch.save(net.state_dict(),'deep_emotion-{}-{}-{}.pt'.format(epochs,batchsize,lr))\n",
    "    print(\"===================================Training Finished===================================\")\n",
    "\n"
   ]
  },
  {
   "cell_type": "code",
   "execution_count": 9,
   "id": "0b7c6bf5-a176-4cc8-8209-1ba9969dffe1",
   "metadata": {},
   "outputs": [
    {
     "data": {
      "text/plain": [
       "_StoreAction(option_strings=['-s', '--setup'], dest='setup', nargs=None, const=None, default=None, type=<class 'bool'>, choices=None, help='setup the dataset for the first time', metavar=None)"
      ]
     },
     "execution_count": 9,
     "metadata": {},
     "output_type": "execute_result"
    }
   ],
   "source": [
    "parser = argparse.ArgumentParser(description=\"Configuration of setup and training process\")\n",
    "parser.add_argument('-s', '--setup', type=bool, help='setup the dataset for the first time')\n",
    "  "
   ]
  },
  {
   "cell_type": "code",
   "execution_count": 10,
   "id": "05d68e0b-83d8-408a-b8f0-eac6837e0fa8",
   "metadata": {},
   "outputs": [
    {
     "data": {
      "text/plain": [
       "_StoreAction(option_strings=['-d', '--data'], dest='data', nargs=None, const=None, default=None, type=<class 'str'>, choices=None, help='data folder that contains data files that downloaded from kaggle (train.csv and test.csv)', metavar=None)"
      ]
     },
     "execution_count": 10,
     "metadata": {},
     "output_type": "execute_result"
    }
   ],
   "source": [
    "parser.add_argument('-d', '--data', type=str,required= True,\n",
    "                               help='data folder that contains data files that downloaded from kaggle (train.csv and test.csv)')\n",
    "    "
   ]
  },
  {
   "cell_type": "code",
   "execution_count": 11,
   "id": "25645464-db4e-4745-ac4b-b6f64433d6d3",
   "metadata": {},
   "outputs": [
    {
     "data": {
      "text/plain": [
       "_StoreAction(option_strings=['-hparams', '--hyperparams'], dest='hyperparams', nargs=None, const=None, default=None, type=<class 'bool'>, choices=None, help='True when changing the hyperparameters e.g (batch size, LR, num. of epochs)', metavar=None)"
      ]
     },
     "execution_count": 11,
     "metadata": {},
     "output_type": "execute_result"
    }
   ],
   "source": [
    "parser.add_argument('-hparams', '--hyperparams', type=bool,\n",
    "                               help='True when changing the hyperparameters e.g (batch size, LR, num. of epochs)')\n",
    "    "
   ]
  },
  {
   "cell_type": "code",
   "execution_count": 12,
   "id": "6c968b4b-01b8-43ab-b3a0-49dbd93fb8ba",
   "metadata": {},
   "outputs": [
    {
     "data": {
      "text/plain": [
       "_StoreAction(option_strings=['-t', '--train'], dest='train', nargs=None, const=None, default=None, type=<class 'bool'>, choices=None, help='True when training', metavar=None)"
      ]
     },
     "execution_count": 12,
     "metadata": {},
     "output_type": "execute_result"
    }
   ],
   "source": [
    "parser.add_argument('-e', '--epochs', type= int, help= 'number of epochs')\n",
    "parser.add_argument('-lr', '--learning_rate', type= float, help= 'value of learning rate')\n",
    "parser.add_argument('-bs', '--batch_size', type= int, help= 'training/validation batch size')\n",
    "parser.add_argument('-t', '--train', type=bool, help='True when training')\n",
    "    "
   ]
  },
  {
   "cell_type": "code",
   "execution_count": 13,
   "id": "42d66310-1697-402d-a656-16a1f40e574f",
   "metadata": {},
   "outputs": [],
   "source": [
    "epochs = 2000\n",
    "lr = 0.001\n",
    "batchsize = 128"
   ]
  },
  {
   "cell_type": "code",
   "execution_count": 14,
   "id": "a8091d17-16a5-40ca-92d8-b916d562fcd3",
   "metadata": {},
   "outputs": [],
   "source": [
    "net = Deep_Emotion_VGG()"
   ]
  },
  {
   "cell_type": "code",
   "execution_count": 15,
   "id": "c5a55ea3-f8fb-4a85-b909-e719b2b774fe",
   "metadata": {},
   "outputs": [
    {
     "data": {
      "text/plain": [
       "Deep_Emotion_VGG(\n",
       "  (conv1_1): Conv2d(3, 4, kernel_size=(3, 3), stride=(1, 1), padding=(1, 1))\n",
       "  (dropout1): Dropout(p=0.4, inplace=False)\n",
       "  (conv1_2): Conv2d(4, 8, kernel_size=(3, 3), stride=(1, 1), padding=(1, 1))\n",
       "  (pool1): MaxPool2d(kernel_size=2, stride=2, padding=0, dilation=1, ceil_mode=False)\n",
       "  (conv2_1): Conv2d(8, 16, kernel_size=(3, 3), stride=(1, 1), padding=(1, 1))\n",
       "  (conv2_2): Conv2d(16, 16, kernel_size=(3, 3), stride=(1, 1), padding=(1, 1))\n",
       "  (pool2): MaxPool2d(kernel_size=2, stride=2, padding=0, dilation=1, ceil_mode=False)\n",
       "  (conv3_1): Conv2d(16, 32, kernel_size=(3, 3), stride=(1, 1), padding=(1, 1))\n",
       "  (conv3_2): Conv2d(32, 32, kernel_size=(3, 3), stride=(1, 1), padding=(1, 1))\n",
       "  (conv3_3): Conv2d(32, 32, kernel_size=(3, 3), stride=(1, 1), padding=(1, 1))\n",
       "  (pool3): MaxPool2d(kernel_size=2, stride=2, padding=0, dilation=1, ceil_mode=False)\n",
       "  (conv4_1): Conv2d(32, 64, kernel_size=(3, 3), stride=(1, 1), padding=(1, 1))\n",
       "  (conv4_2): Conv2d(64, 64, kernel_size=(3, 3), stride=(1, 1), padding=(1, 1))\n",
       "  (conv4_3): Conv2d(64, 128, kernel_size=(3, 3), stride=(1, 1), padding=(1, 1))\n",
       "  (pool4): MaxPool2d(kernel_size=2, stride=2, padding=0, dilation=1, ceil_mode=False)\n",
       "  (norm): BatchNorm2d(128, eps=1e-05, momentum=0.1, affine=True, track_running_stats=True)\n",
       "  (fc1): Linear(in_features=1152, out_features=128, bias=True)\n",
       "  (fc2): Linear(in_features=128, out_features=128, bias=True)\n",
       "  (fc3): Linear(in_features=128, out_features=8, bias=True)\n",
       "  (localization): Sequential(\n",
       "    (0): Conv2d(3, 8, kernel_size=(7, 7), stride=(1, 1))\n",
       "    (1): MaxPool2d(kernel_size=2, stride=2, padding=0, dilation=1, ceil_mode=False)\n",
       "    (2): ReLU(inplace=True)\n",
       "    (3): Conv2d(8, 10, kernel_size=(5, 5), stride=(1, 1))\n",
       "    (4): MaxPool2d(kernel_size=2, stride=2, padding=0, dilation=1, ceil_mode=False)\n",
       "    (5): ReLU(inplace=True)\n",
       "  )\n",
       "  (fc_loc): Sequential(\n",
       "    (0): Linear(in_features=640, out_features=32, bias=True)\n",
       "    (1): ReLU(inplace=True)\n",
       "    (2): Linear(in_features=32, out_features=6, bias=True)\n",
       "  )\n",
       ")"
      ]
     },
     "execution_count": 15,
     "metadata": {},
     "output_type": "execute_result"
    }
   ],
   "source": [
    "net.to(device)"
   ]
  },
  {
   "cell_type": "code",
   "execution_count": 16,
   "id": "474ba417-d4af-4580-ac47-545db836f6ed",
   "metadata": {},
   "outputs": [
    {
     "name": "stdout",
     "output_type": "stream",
     "text": [
      "Model archticture:  Deep_Emotion_VGG(\n",
      "  (conv1_1): Conv2d(3, 4, kernel_size=(3, 3), stride=(1, 1), padding=(1, 1))\n",
      "  (dropout1): Dropout(p=0.4, inplace=False)\n",
      "  (conv1_2): Conv2d(4, 8, kernel_size=(3, 3), stride=(1, 1), padding=(1, 1))\n",
      "  (pool1): MaxPool2d(kernel_size=2, stride=2, padding=0, dilation=1, ceil_mode=False)\n",
      "  (conv2_1): Conv2d(8, 16, kernel_size=(3, 3), stride=(1, 1), padding=(1, 1))\n",
      "  (conv2_2): Conv2d(16, 16, kernel_size=(3, 3), stride=(1, 1), padding=(1, 1))\n",
      "  (pool2): MaxPool2d(kernel_size=2, stride=2, padding=0, dilation=1, ceil_mode=False)\n",
      "  (conv3_1): Conv2d(16, 32, kernel_size=(3, 3), stride=(1, 1), padding=(1, 1))\n",
      "  (conv3_2): Conv2d(32, 32, kernel_size=(3, 3), stride=(1, 1), padding=(1, 1))\n",
      "  (conv3_3): Conv2d(32, 32, kernel_size=(3, 3), stride=(1, 1), padding=(1, 1))\n",
      "  (pool3): MaxPool2d(kernel_size=2, stride=2, padding=0, dilation=1, ceil_mode=False)\n",
      "  (conv4_1): Conv2d(32, 64, kernel_size=(3, 3), stride=(1, 1), padding=(1, 1))\n",
      "  (conv4_2): Conv2d(64, 64, kernel_size=(3, 3), stride=(1, 1), padding=(1, 1))\n",
      "  (conv4_3): Conv2d(64, 128, kernel_size=(3, 3), stride=(1, 1), padding=(1, 1))\n",
      "  (pool4): MaxPool2d(kernel_size=2, stride=2, padding=0, dilation=1, ceil_mode=False)\n",
      "  (norm): BatchNorm2d(128, eps=1e-05, momentum=0.1, affine=True, track_running_stats=True)\n",
      "  (fc1): Linear(in_features=1152, out_features=128, bias=True)\n",
      "  (fc2): Linear(in_features=128, out_features=128, bias=True)\n",
      "  (fc3): Linear(in_features=128, out_features=8, bias=True)\n",
      "  (localization): Sequential(\n",
      "    (0): Conv2d(3, 8, kernel_size=(7, 7), stride=(1, 1))\n",
      "    (1): MaxPool2d(kernel_size=2, stride=2, padding=0, dilation=1, ceil_mode=False)\n",
      "    (2): ReLU(inplace=True)\n",
      "    (3): Conv2d(8, 10, kernel_size=(5, 5), stride=(1, 1))\n",
      "    (4): MaxPool2d(kernel_size=2, stride=2, padding=0, dilation=1, ceil_mode=False)\n",
      "    (5): ReLU(inplace=True)\n",
      "  )\n",
      "  (fc_loc): Sequential(\n",
      "    (0): Linear(in_features=640, out_features=32, bias=True)\n",
      "    (1): ReLU(inplace=True)\n",
      "    (2): Linear(in_features=32, out_features=6, bias=True)\n",
      "  )\n",
      ")\n"
     ]
    }
   ],
   "source": [
    "print(\"Model archticture: \", net)"
   ]
  },
  {
   "cell_type": "code",
   "execution_count": 17,
   "id": "1366c966-e0d8-451a-82e6-e04d2580b738",
   "metadata": {},
   "outputs": [],
   "source": [
    "transformation= transforms.Compose([transforms.ToTensor(),transforms.Normalize((0.5,),(0.5,))])"
   ]
  },
  {
   "cell_type": "code",
   "execution_count": 18,
   "id": "d9ed55d4-9e69-4951-9b4d-9696158a7836",
   "metadata": {},
   "outputs": [],
   "source": [
    "traincsv_file = \"data2\" + \"/\"+\"train.csv\"\n",
    "validationcsv_file = \"data2\" + \"/\"+\"val.csv\""
   ]
  },
  {
   "cell_type": "code",
   "execution_count": 19,
   "id": "89908c87-910e-47f5-b944-6a56f45c59b3",
   "metadata": {},
   "outputs": [],
   "source": [
    "train_img_dir = \"data2\"+\"/\"+\"train/\""
   ]
  },
  {
   "cell_type": "code",
   "execution_count": 20,
   "id": "dff6881b-0aa8-42ac-aa93-2f2ca83ae91f",
   "metadata": {},
   "outputs": [],
   "source": [
    "validation_img_dir = \"data2\"+\"/\"+\"val/\""
   ]
  },
  {
   "cell_type": "code",
   "execution_count": 21,
   "id": "36f8aa59-b3b4-4f7a-b1ab-ac3bd63f96ea",
   "metadata": {},
   "outputs": [],
   "source": [
    "train_dataset= Plain_Dataset(csv_file=traincsv_file, img_dir = train_img_dir, datatype = 'train', transform = transformation)\n"
   ]
  },
  {
   "cell_type": "code",
   "execution_count": 22,
   "id": "c437da0b-737c-44e5-a400-11e5cb98bd45",
   "metadata": {},
   "outputs": [],
   "source": [
    "validation_dataset= Plain_Dataset(csv_file=validationcsv_file, img_dir = validation_img_dir, datatype = 'val', transform = transformation)\n"
   ]
  },
  {
   "cell_type": "code",
   "execution_count": 23,
   "id": "99654a59-f8a4-46f2-b620-43b96dff235a",
   "metadata": {},
   "outputs": [],
   "source": [
    "train_loader= DataLoader(train_dataset,batch_size=batchsize,shuffle = True,num_workers=0)\n",
    "val_loader=   DataLoader(validation_dataset,batch_size=batchsize,shuffle = True,num_workers=0)"
   ]
  },
  {
   "cell_type": "code",
   "execution_count": 24,
   "id": "922f2cf0-aae0-4eb4-9b76-755185032e9a",
   "metadata": {},
   "outputs": [],
   "source": [
    "criterion= nn.CrossEntropyLoss()\n",
    "optmizer= optim.Adam(net.parameters(),lr= 0.0001, weight_decay = 0.001)\n"
   ]
  },
  {
   "cell_type": "code",
   "execution_count": 25,
   "id": "bf5b0517-79fa-40be-82ea-2f36cdca6cae",
   "metadata": {},
   "outputs": [
    {
     "data": {
      "text/plain": [
       "232"
      ]
     },
     "execution_count": 25,
     "metadata": {},
     "output_type": "execute_result"
    }
   ],
   "source": [
    "len(train_loader)"
   ]
  },
  {
   "cell_type": "code",
   "execution_count": 31,
   "id": "9f857522-56a1-470c-8f30-90afbc598005",
   "metadata": {},
   "outputs": [
    {
     "name": "stdout",
     "output_type": "stream",
     "text": [
      "===================================Start Training===================================\n",
      "Epoch: 1 \tTraining Loss: 0.00492526 \tValidation Loss 0.00953524 \tTraining Acuuarcy 77.413% \tValidation Acuuarcy 58.248%\n",
      "Epoch: 2 \tTraining Loss: 0.00493539 \tValidation Loss 0.00943297 \tTraining Acuuarcy 77.269% \tValidation Acuuarcy 59.268%\n",
      "Epoch: 3 \tTraining Loss: 0.00495938 \tValidation Loss 0.00896922 \tTraining Acuuarcy 77.592% \tValidation Acuuarcy 60.711%\n",
      "Epoch: 4 \tTraining Loss: 0.00490349 \tValidation Loss 0.00893789 \tTraining Acuuarcy 77.400% \tValidation Acuuarcy 60.746%\n",
      "Epoch: 5 \tTraining Loss: 0.00487721 \tValidation Loss 0.00972674 \tTraining Acuuarcy 77.639% \tValidation Acuuarcy 57.650%\n",
      "Epoch: 6 \tTraining Loss: 0.00497661 \tValidation Loss 0.00893168 \tTraining Acuuarcy 77.127% \tValidation Acuuarcy 60.781%\n",
      "Epoch: 7 \tTraining Loss: 0.00488451 \tValidation Loss 0.00886903 \tTraining Acuuarcy 77.427% \tValidation Acuuarcy 60.816%\n",
      "Epoch: 8 \tTraining Loss: 0.00485846 \tValidation Loss 0.00942030 \tTraining Acuuarcy 77.626% \tValidation Acuuarcy 58.670%\n",
      "Epoch: 9 \tTraining Loss: 0.00487009 \tValidation Loss 0.00920708 \tTraining Acuuarcy 77.902% \tValidation Acuuarcy 59.163%\n",
      "Epoch: 10 \tTraining Loss: 0.00489519 \tValidation Loss 0.00904863 \tTraining Acuuarcy 77.413% \tValidation Acuuarcy 61.203%\n",
      "Epoch: 11 \tTraining Loss: 0.00485623 \tValidation Loss 0.00904553 \tTraining Acuuarcy 77.804% \tValidation Acuuarcy 60.253%\n",
      "Epoch: 12 \tTraining Loss: 0.00488619 \tValidation Loss 0.00892110 \tTraining Acuuarcy 77.397% \tValidation Acuuarcy 61.520%\n",
      "Epoch: 13 \tTraining Loss: 0.00486101 \tValidation Loss 0.00899751 \tTraining Acuuarcy 77.727% \tValidation Acuuarcy 60.288%\n",
      "Epoch: 14 \tTraining Loss: 0.00489064 \tValidation Loss 0.00895386 \tTraining Acuuarcy 77.403% \tValidation Acuuarcy 60.394%\n",
      "Epoch: 15 \tTraining Loss: 0.00488448 \tValidation Loss 0.00922521 \tTraining Acuuarcy 77.521% \tValidation Acuuarcy 59.444%\n",
      "Epoch: 16 \tTraining Loss: 0.00482943 \tValidation Loss 0.00895239 \tTraining Acuuarcy 77.845% \tValidation Acuuarcy 61.097%\n",
      "Epoch: 17 \tTraining Loss: 0.00486364 \tValidation Loss 0.00940471 \tTraining Acuuarcy 77.579% \tValidation Acuuarcy 59.690%\n",
      "Epoch: 18 \tTraining Loss: 0.00487815 \tValidation Loss 0.00906946 \tTraining Acuuarcy 77.595% \tValidation Acuuarcy 59.866%\n",
      "Epoch: 19 \tTraining Loss: 0.00486068 \tValidation Loss 0.00937668 \tTraining Acuuarcy 77.690% \tValidation Acuuarcy 59.163%\n",
      "Epoch: 20 \tTraining Loss: 0.00489636 \tValidation Loss 0.00926159 \tTraining Acuuarcy 77.676% \tValidation Acuuarcy 59.339%\n",
      "Epoch: 21 \tTraining Loss: 0.00479025 \tValidation Loss 0.00911071 \tTraining Acuuarcy 78.168% \tValidation Acuuarcy 60.077%\n",
      "Epoch: 22 \tTraining Loss: 0.00483147 \tValidation Loss 0.00933994 \tTraining Acuuarcy 77.531% \tValidation Acuuarcy 58.213%\n",
      "Epoch: 23 \tTraining Loss: 0.00483285 \tValidation Loss 0.00925145 \tTraining Acuuarcy 77.720% \tValidation Acuuarcy 59.128%\n",
      "Epoch: 24 \tTraining Loss: 0.00484869 \tValidation Loss 0.00945875 \tTraining Acuuarcy 77.666% \tValidation Acuuarcy 58.354%\n",
      "Epoch: 25 \tTraining Loss: 0.00483637 \tValidation Loss 0.00879574 \tTraining Acuuarcy 77.932% \tValidation Acuuarcy 61.203%\n",
      "Epoch: 26 \tTraining Loss: 0.00486019 \tValidation Loss 0.00878300 \tTraining Acuuarcy 77.649% \tValidation Acuuarcy 60.886%\n",
      "Epoch: 27 \tTraining Loss: 0.00482075 \tValidation Loss 0.00906958 \tTraining Acuuarcy 78.030% \tValidation Acuuarcy 59.937%\n",
      "Epoch: 28 \tTraining Loss: 0.00476793 \tValidation Loss 0.00934636 \tTraining Acuuarcy 78.296% \tValidation Acuuarcy 58.811%\n",
      "Epoch: 29 \tTraining Loss: 0.00477108 \tValidation Loss 0.00919295 \tTraining Acuuarcy 77.966% \tValidation Acuuarcy 59.690%\n",
      "Epoch: 30 \tTraining Loss: 0.00473940 \tValidation Loss 0.00921454 \tTraining Acuuarcy 78.357% \tValidation Acuuarcy 60.218%\n",
      "Epoch: 31 \tTraining Loss: 0.00483233 \tValidation Loss 0.00929069 \tTraining Acuuarcy 77.680% \tValidation Acuuarcy 58.776%\n",
      "Epoch: 32 \tTraining Loss: 0.00486180 \tValidation Loss 0.00913361 \tTraining Acuuarcy 77.730% \tValidation Acuuarcy 59.902%\n",
      "Epoch: 33 \tTraining Loss: 0.00478879 \tValidation Loss 0.00896210 \tTraining Acuuarcy 78.286% \tValidation Acuuarcy 60.992%\n",
      "Epoch: 34 \tTraining Loss: 0.00477833 \tValidation Loss 0.00918491 \tTraining Acuuarcy 77.828% \tValidation Acuuarcy 60.218%\n",
      "Epoch: 35 \tTraining Loss: 0.00474739 \tValidation Loss 0.00921775 \tTraining Acuuarcy 78.108% \tValidation Acuuarcy 60.113%\n",
      "Epoch: 36 \tTraining Loss: 0.00477138 \tValidation Loss 0.00929011 \tTraining Acuuarcy 77.882% \tValidation Acuuarcy 59.409%\n",
      "Epoch: 37 \tTraining Loss: 0.00480840 \tValidation Loss 0.00954454 \tTraining Acuuarcy 77.811% \tValidation Acuuarcy 58.213%\n",
      "Epoch: 38 \tTraining Loss: 0.00474040 \tValidation Loss 0.00906463 \tTraining Acuuarcy 78.273% \tValidation Acuuarcy 60.570%\n",
      "Epoch: 39 \tTraining Loss: 0.00468127 \tValidation Loss 0.00921818 \tTraining Acuuarcy 78.313% \tValidation Acuuarcy 59.620%\n",
      "Epoch: 40 \tTraining Loss: 0.00474599 \tValidation Loss 0.00979110 \tTraining Acuuarcy 78.128% \tValidation Acuuarcy 57.052%\n",
      "Epoch: 41 \tTraining Loss: 0.00476507 \tValidation Loss 0.00906891 \tTraining Acuuarcy 78.114% \tValidation Acuuarcy 60.640%\n",
      "Epoch: 42 \tTraining Loss: 0.00479086 \tValidation Loss 0.00951899 \tTraining Acuuarcy 78.040% \tValidation Acuuarcy 58.459%\n",
      "Epoch: 43 \tTraining Loss: 0.00471114 \tValidation Loss 0.00913867 \tTraining Acuuarcy 78.441% \tValidation Acuuarcy 59.866%\n",
      "Epoch: 44 \tTraining Loss: 0.00474627 \tValidation Loss 0.00923627 \tTraining Acuuarcy 78.310% \tValidation Acuuarcy 59.057%\n",
      "Epoch: 45 \tTraining Loss: 0.00473181 \tValidation Loss 0.00935224 \tTraining Acuuarcy 78.293% \tValidation Acuuarcy 59.726%\n",
      "Epoch: 46 \tTraining Loss: 0.00474171 \tValidation Loss 0.00918248 \tTraining Acuuarcy 78.064% \tValidation Acuuarcy 59.726%\n",
      "Epoch: 47 \tTraining Loss: 0.00472264 \tValidation Loss 0.00950697 \tTraining Acuuarcy 78.458% \tValidation Acuuarcy 57.861%\n",
      "Epoch: 48 \tTraining Loss: 0.00466138 \tValidation Loss 0.00936642 \tTraining Acuuarcy 78.492% \tValidation Acuuarcy 59.022%\n",
      "Epoch: 49 \tTraining Loss: 0.00469190 \tValidation Loss 0.00957045 \tTraining Acuuarcy 78.370% \tValidation Acuuarcy 58.495%\n",
      "Epoch: 50 \tTraining Loss: 0.00474330 \tValidation Loss 0.00919376 \tTraining Acuuarcy 78.512% \tValidation Acuuarcy 60.324%\n",
      "Epoch: 51 \tTraining Loss: 0.00469609 \tValidation Loss 0.00972465 \tTraining Acuuarcy 78.593% \tValidation Acuuarcy 56.630%\n",
      "Epoch: 52 \tTraining Loss: 0.00469047 \tValidation Loss 0.00914855 \tTraining Acuuarcy 78.367% \tValidation Acuuarcy 60.324%\n",
      "Epoch: 53 \tTraining Loss: 0.00464787 \tValidation Loss 0.00929359 \tTraining Acuuarcy 78.418% \tValidation Acuuarcy 59.655%\n",
      "Epoch: 54 \tTraining Loss: 0.00474018 \tValidation Loss 0.00930085 \tTraining Acuuarcy 78.178% \tValidation Acuuarcy 58.987%\n",
      "Epoch: 55 \tTraining Loss: 0.00469081 \tValidation Loss 0.00934688 \tTraining Acuuarcy 78.502% \tValidation Acuuarcy 58.811%\n",
      "Epoch: 56 \tTraining Loss: 0.00469235 \tValidation Loss 0.00900976 \tTraining Acuuarcy 78.249% \tValidation Acuuarcy 60.746%\n",
      "Epoch: 57 \tTraining Loss: 0.00470204 \tValidation Loss 0.00890787 \tTraining Acuuarcy 78.236% \tValidation Acuuarcy 60.886%\n",
      "Epoch: 58 \tTraining Loss: 0.00469925 \tValidation Loss 0.00937158 \tTraining Acuuarcy 78.381% \tValidation Acuuarcy 58.952%\n",
      "Epoch: 59 \tTraining Loss: 0.00466013 \tValidation Loss 0.00893380 \tTraining Acuuarcy 78.408% \tValidation Acuuarcy 60.957%\n",
      "Epoch: 60 \tTraining Loss: 0.00464418 \tValidation Loss 0.00875963 \tTraining Acuuarcy 78.566% \tValidation Acuuarcy 62.786%\n",
      "Epoch: 61 \tTraining Loss: 0.00474365 \tValidation Loss 0.00915766 \tTraining Acuuarcy 78.165% \tValidation Acuuarcy 60.781%\n",
      "Epoch: 62 \tTraining Loss: 0.00465787 \tValidation Loss 0.00906253 \tTraining Acuuarcy 78.387% \tValidation Acuuarcy 59.409%\n",
      "Epoch: 63 \tTraining Loss: 0.00464882 \tValidation Loss 0.00897628 \tTraining Acuuarcy 78.401% \tValidation Acuuarcy 60.077%\n",
      "Epoch: 64 \tTraining Loss: 0.00463615 \tValidation Loss 0.00908504 \tTraining Acuuarcy 78.967% \tValidation Acuuarcy 61.097%\n",
      "Epoch: 65 \tTraining Loss: 0.00471593 \tValidation Loss 0.00918341 \tTraining Acuuarcy 78.327% \tValidation Acuuarcy 60.007%\n",
      "Epoch: 66 \tTraining Loss: 0.00462685 \tValidation Loss 0.00916580 \tTraining Acuuarcy 78.620% \tValidation Acuuarcy 60.113%\n",
      "Epoch: 67 \tTraining Loss: 0.00464800 \tValidation Loss 0.00928954 \tTraining Acuuarcy 78.455% \tValidation Acuuarcy 59.339%\n",
      "Epoch: 68 \tTraining Loss: 0.00469451 \tValidation Loss 0.00922228 \tTraining Acuuarcy 78.374% \tValidation Acuuarcy 60.042%\n",
      "Epoch: 69 \tTraining Loss: 0.00464529 \tValidation Loss 0.00947458 \tTraining Acuuarcy 78.953% \tValidation Acuuarcy 58.881%\n",
      "Epoch: 70 \tTraining Loss: 0.00467792 \tValidation Loss 0.00895719 \tTraining Acuuarcy 78.465% \tValidation Acuuarcy 60.499%\n",
      "Epoch: 71 \tTraining Loss: 0.00462619 \tValidation Loss 0.00919924 \tTraining Acuuarcy 78.765% \tValidation Acuuarcy 60.148%\n",
      "Epoch: 72 \tTraining Loss: 0.00463564 \tValidation Loss 0.00962217 \tTraining Acuuarcy 78.724% \tValidation Acuuarcy 57.756%\n",
      "Epoch: 73 \tTraining Loss: 0.00469782 \tValidation Loss 0.00918371 \tTraining Acuuarcy 78.589% \tValidation Acuuarcy 59.409%\n",
      "Epoch: 74 \tTraining Loss: 0.00467916 \tValidation Loss 0.00924065 \tTraining Acuuarcy 78.768% \tValidation Acuuarcy 59.163%\n",
      "Epoch: 75 \tTraining Loss: 0.00463761 \tValidation Loss 0.00906352 \tTraining Acuuarcy 78.738% \tValidation Acuuarcy 60.218%\n",
      "Epoch: 76 \tTraining Loss: 0.00460430 \tValidation Loss 0.00965802 \tTraining Acuuarcy 78.822% \tValidation Acuuarcy 57.791%\n",
      "Epoch: 77 \tTraining Loss: 0.00459886 \tValidation Loss 0.00934890 \tTraining Acuuarcy 78.913% \tValidation Acuuarcy 59.620%\n",
      "Epoch: 78 \tTraining Loss: 0.00470287 \tValidation Loss 0.00955312 \tTraining Acuuarcy 78.525% \tValidation Acuuarcy 58.319%\n",
      "Epoch: 79 \tTraining Loss: 0.00457838 \tValidation Loss 0.00892941 \tTraining Acuuarcy 79.098% \tValidation Acuuarcy 61.273%\n",
      "Epoch: 80 \tTraining Loss: 0.00465537 \tValidation Loss 0.00909954 \tTraining Acuuarcy 78.788% \tValidation Acuuarcy 60.218%\n",
      "Epoch: 81 \tTraining Loss: 0.00462525 \tValidation Loss 0.00893423 \tTraining Acuuarcy 78.964% \tValidation Acuuarcy 61.168%\n",
      "Epoch: 82 \tTraining Loss: 0.00461056 \tValidation Loss 0.00908566 \tTraining Acuuarcy 78.896% \tValidation Acuuarcy 61.027%\n",
      "Epoch: 83 \tTraining Loss: 0.00459190 \tValidation Loss 0.00896204 \tTraining Acuuarcy 78.849% \tValidation Acuuarcy 61.344%\n",
      "Epoch: 84 \tTraining Loss: 0.00457461 \tValidation Loss 0.00956229 \tTraining Acuuarcy 79.011% \tValidation Acuuarcy 58.706%\n",
      "Epoch: 85 \tTraining Loss: 0.00458306 \tValidation Loss 0.00946413 \tTraining Acuuarcy 78.825% \tValidation Acuuarcy 59.690%\n",
      "Epoch: 86 \tTraining Loss: 0.00461179 \tValidation Loss 0.00903857 \tTraining Acuuarcy 79.001% \tValidation Acuuarcy 60.992%\n",
      "Epoch: 87 \tTraining Loss: 0.00459947 \tValidation Loss 0.00903982 \tTraining Acuuarcy 79.038% \tValidation Acuuarcy 60.711%\n",
      "Epoch: 88 \tTraining Loss: 0.00464403 \tValidation Loss 0.00892830 \tTraining Acuuarcy 78.741% \tValidation Acuuarcy 60.253%\n",
      "Epoch: 89 \tTraining Loss: 0.00460040 \tValidation Loss 0.00947167 \tTraining Acuuarcy 78.751% \tValidation Acuuarcy 58.213%\n",
      "Epoch: 90 \tTraining Loss: 0.00464866 \tValidation Loss 0.00929665 \tTraining Acuuarcy 78.637% \tValidation Acuuarcy 58.530%\n",
      "Epoch: 91 \tTraining Loss: 0.00453389 \tValidation Loss 0.00924758 \tTraining Acuuarcy 79.085% \tValidation Acuuarcy 59.057%\n",
      "Epoch: 92 \tTraining Loss: 0.00460053 \tValidation Loss 0.00909913 \tTraining Acuuarcy 78.933% \tValidation Acuuarcy 60.324%\n",
      "Epoch: 93 \tTraining Loss: 0.00460060 \tValidation Loss 0.00911814 \tTraining Acuuarcy 79.149% \tValidation Acuuarcy 61.027%\n",
      "Epoch: 94 \tTraining Loss: 0.00458074 \tValidation Loss 0.00931300 \tTraining Acuuarcy 79.098% \tValidation Acuuarcy 59.163%\n",
      "Epoch: 95 \tTraining Loss: 0.00458896 \tValidation Loss 0.00869009 \tTraining Acuuarcy 79.011% \tValidation Acuuarcy 61.731%\n",
      "Epoch: 96 \tTraining Loss: 0.00457787 \tValidation Loss 0.00916848 \tTraining Acuuarcy 78.974% \tValidation Acuuarcy 60.183%\n",
      "Epoch: 97 \tTraining Loss: 0.00454425 \tValidation Loss 0.00901984 \tTraining Acuuarcy 79.233% \tValidation Acuuarcy 60.394%\n",
      "Epoch: 98 \tTraining Loss: 0.00455569 \tValidation Loss 0.00909592 \tTraining Acuuarcy 78.940% \tValidation Acuuarcy 59.515%\n",
      "Epoch: 99 \tTraining Loss: 0.00447782 \tValidation Loss 0.00904151 \tTraining Acuuarcy 79.530% \tValidation Acuuarcy 60.851%\n",
      "Epoch: 100 \tTraining Loss: 0.00460220 \tValidation Loss 0.00883283 \tTraining Acuuarcy 78.926% \tValidation Acuuarcy 61.379%\n",
      "Epoch: 101 \tTraining Loss: 0.00452759 \tValidation Loss 0.00949301 \tTraining Acuuarcy 79.533% \tValidation Acuuarcy 58.002%\n",
      "Epoch: 102 \tTraining Loss: 0.00453320 \tValidation Loss 0.00931246 \tTraining Acuuarcy 79.068% \tValidation Acuuarcy 60.148%\n",
      "Epoch: 103 \tTraining Loss: 0.00457496 \tValidation Loss 0.00913992 \tTraining Acuuarcy 78.883% \tValidation Acuuarcy 59.902%\n",
      "Epoch: 104 \tTraining Loss: 0.00452013 \tValidation Loss 0.00898628 \tTraining Acuuarcy 79.142% \tValidation Acuuarcy 61.238%\n",
      "Epoch: 105 \tTraining Loss: 0.00449490 \tValidation Loss 0.00923987 \tTraining Acuuarcy 79.028% \tValidation Acuuarcy 59.690%\n",
      "Epoch: 106 \tTraining Loss: 0.00455413 \tValidation Loss 0.00907763 \tTraining Acuuarcy 79.095% \tValidation Acuuarcy 60.816%\n",
      "Epoch: 107 \tTraining Loss: 0.00451067 \tValidation Loss 0.00890597 \tTraining Acuuarcy 79.519% \tValidation Acuuarcy 60.640%\n",
      "Epoch: 108 \tTraining Loss: 0.00451776 \tValidation Loss 0.00939848 \tTraining Acuuarcy 79.149% \tValidation Acuuarcy 59.902%\n",
      "Epoch: 109 \tTraining Loss: 0.00452272 \tValidation Loss 0.00946064 \tTraining Acuuarcy 79.294% \tValidation Acuuarcy 59.093%\n",
      "Epoch: 110 \tTraining Loss: 0.00460887 \tValidation Loss 0.00925211 \tTraining Acuuarcy 78.701% \tValidation Acuuarcy 60.816%\n",
      "Epoch: 111 \tTraining Loss: 0.00453019 \tValidation Loss 0.00911580 \tTraining Acuuarcy 79.031% \tValidation Acuuarcy 61.027%\n",
      "Epoch: 112 \tTraining Loss: 0.00450302 \tValidation Loss 0.00963061 \tTraining Acuuarcy 79.196% \tValidation Acuuarcy 58.600%\n",
      "Epoch: 113 \tTraining Loss: 0.00447115 \tValidation Loss 0.00918504 \tTraining Acuuarcy 79.452% \tValidation Acuuarcy 59.444%\n",
      "Epoch: 114 \tTraining Loss: 0.00459757 \tValidation Loss 0.00959125 \tTraining Acuuarcy 79.240% \tValidation Acuuarcy 58.284%\n",
      "Epoch: 115 \tTraining Loss: 0.00446983 \tValidation Loss 0.00871642 \tTraining Acuuarcy 79.250% \tValidation Acuuarcy 62.329%\n",
      "Epoch: 116 \tTraining Loss: 0.00454214 \tValidation Loss 0.00930624 \tTraining Acuuarcy 79.240% \tValidation Acuuarcy 60.183%\n",
      "Epoch: 117 \tTraining Loss: 0.00444879 \tValidation Loss 0.00884327 \tTraining Acuuarcy 79.378% \tValidation Acuuarcy 61.695%\n",
      "Epoch: 118 \tTraining Loss: 0.00450383 \tValidation Loss 0.00889108 \tTraining Acuuarcy 79.314% \tValidation Acuuarcy 61.731%\n",
      "Epoch: 119 \tTraining Loss: 0.00447440 \tValidation Loss 0.00919732 \tTraining Acuuarcy 79.466% \tValidation Acuuarcy 60.007%\n",
      "Epoch: 120 \tTraining Loss: 0.00446356 \tValidation Loss 0.00897135 \tTraining Acuuarcy 79.466% \tValidation Acuuarcy 61.308%\n",
      "Epoch: 121 \tTraining Loss: 0.00453578 \tValidation Loss 0.00903155 \tTraining Acuuarcy 79.216% \tValidation Acuuarcy 61.836%\n",
      "Epoch: 122 \tTraining Loss: 0.00451146 \tValidation Loss 0.00918991 \tTraining Acuuarcy 79.395% \tValidation Acuuarcy 60.535%\n",
      "Epoch: 123 \tTraining Loss: 0.00451358 \tValidation Loss 0.00929462 \tTraining Acuuarcy 79.209% \tValidation Acuuarcy 60.535%\n",
      "Epoch: 124 \tTraining Loss: 0.00454642 \tValidation Loss 0.00955386 \tTraining Acuuarcy 79.054% \tValidation Acuuarcy 59.690%\n",
      "Epoch: 125 \tTraining Loss: 0.00452095 \tValidation Loss 0.00896410 \tTraining Acuuarcy 79.145% \tValidation Acuuarcy 60.922%\n",
      "Epoch: 126 \tTraining Loss: 0.00447080 \tValidation Loss 0.00953191 \tTraining Acuuarcy 79.338% \tValidation Acuuarcy 59.690%\n",
      "Epoch: 127 \tTraining Loss: 0.00449121 \tValidation Loss 0.00884611 \tTraining Acuuarcy 79.307% \tValidation Acuuarcy 61.449%\n",
      "Epoch: 128 \tTraining Loss: 0.00441730 \tValidation Loss 0.00931133 \tTraining Acuuarcy 79.580% \tValidation Acuuarcy 59.022%\n",
      "Epoch: 129 \tTraining Loss: 0.00448266 \tValidation Loss 0.00954981 \tTraining Acuuarcy 79.274% \tValidation Acuuarcy 58.600%\n",
      "Epoch: 130 \tTraining Loss: 0.00444236 \tValidation Loss 0.00919395 \tTraining Acuuarcy 79.637% \tValidation Acuuarcy 60.148%\n",
      "Epoch: 131 \tTraining Loss: 0.00439109 \tValidation Loss 0.00960784 \tTraining Acuuarcy 79.688% \tValidation Acuuarcy 58.881%\n",
      "Epoch: 132 \tTraining Loss: 0.00444957 \tValidation Loss 0.00903516 \tTraining Acuuarcy 79.715% \tValidation Acuuarcy 61.133%\n",
      "Epoch: 133 \tTraining Loss: 0.00445065 \tValidation Loss 0.00891328 \tTraining Acuuarcy 79.489% \tValidation Acuuarcy 61.449%\n",
      "Epoch: 134 \tTraining Loss: 0.00443162 \tValidation Loss 0.00934420 \tTraining Acuuarcy 79.479% \tValidation Acuuarcy 59.268%\n",
      "Epoch: 135 \tTraining Loss: 0.00442371 \tValidation Loss 0.00907549 \tTraining Acuuarcy 79.739% \tValidation Acuuarcy 60.253%\n",
      "Epoch: 136 \tTraining Loss: 0.00441708 \tValidation Loss 0.00946752 \tTraining Acuuarcy 79.728% \tValidation Acuuarcy 58.987%\n",
      "Epoch: 137 \tTraining Loss: 0.00447134 \tValidation Loss 0.00942578 \tTraining Acuuarcy 79.546% \tValidation Acuuarcy 60.218%\n",
      "Epoch: 138 \tTraining Loss: 0.00445885 \tValidation Loss 0.00957375 \tTraining Acuuarcy 79.786% \tValidation Acuuarcy 58.776%\n",
      "Epoch: 139 \tTraining Loss: 0.00440764 \tValidation Loss 0.00933959 \tTraining Acuuarcy 79.769% \tValidation Acuuarcy 59.409%\n",
      "Epoch: 140 \tTraining Loss: 0.00441995 \tValidation Loss 0.00973458 \tTraining Acuuarcy 79.651% \tValidation Acuuarcy 59.479%\n",
      "Epoch: 141 \tTraining Loss: 0.00445181 \tValidation Loss 0.00921842 \tTraining Acuuarcy 79.661% \tValidation Acuuarcy 59.866%\n",
      "Epoch: 142 \tTraining Loss: 0.00444697 \tValidation Loss 0.00951073 \tTraining Acuuarcy 79.533% \tValidation Acuuarcy 58.459%\n",
      "Epoch: 143 \tTraining Loss: 0.00439169 \tValidation Loss 0.00924695 \tTraining Acuuarcy 79.526% \tValidation Acuuarcy 59.796%\n",
      "Epoch: 144 \tTraining Loss: 0.00442475 \tValidation Loss 0.00944333 \tTraining Acuuarcy 79.688% \tValidation Acuuarcy 59.198%\n",
      "Epoch: 145 \tTraining Loss: 0.00445013 \tValidation Loss 0.00939439 \tTraining Acuuarcy 79.843% \tValidation Acuuarcy 59.690%\n",
      "Epoch: 146 \tTraining Loss: 0.00444276 \tValidation Loss 0.00912342 \tTraining Acuuarcy 79.813% \tValidation Acuuarcy 59.831%\n",
      "Epoch: 147 \tTraining Loss: 0.00441112 \tValidation Loss 0.00910959 \tTraining Acuuarcy 79.718% \tValidation Acuuarcy 61.273%\n",
      "Epoch: 148 \tTraining Loss: 0.00438093 \tValidation Loss 0.00960397 \tTraining Acuuarcy 79.873% \tValidation Acuuarcy 57.334%\n",
      "Epoch: 149 \tTraining Loss: 0.00439546 \tValidation Loss 0.00899292 \tTraining Acuuarcy 79.786% \tValidation Acuuarcy 60.499%\n",
      "Epoch: 150 \tTraining Loss: 0.00437756 \tValidation Loss 0.00923142 \tTraining Acuuarcy 79.978% \tValidation Acuuarcy 60.077%\n",
      "Epoch: 151 \tTraining Loss: 0.00437512 \tValidation Loss 0.00937889 \tTraining Acuuarcy 79.843% \tValidation Acuuarcy 59.972%\n",
      "Epoch: 152 \tTraining Loss: 0.00435299 \tValidation Loss 0.00934802 \tTraining Acuuarcy 79.947% \tValidation Acuuarcy 60.148%\n",
      "Epoch: 153 \tTraining Loss: 0.00439861 \tValidation Loss 0.00927182 \tTraining Acuuarcy 79.705% \tValidation Acuuarcy 60.253%\n",
      "Epoch: 154 \tTraining Loss: 0.00440196 \tValidation Loss 0.00917713 \tTraining Acuuarcy 80.005% \tValidation Acuuarcy 60.429%\n",
      "Epoch: 155 \tTraining Loss: 0.00439684 \tValidation Loss 0.00917761 \tTraining Acuuarcy 80.011% \tValidation Acuuarcy 61.379%\n",
      "Epoch: 156 \tTraining Loss: 0.00434940 \tValidation Loss 0.00965502 \tTraining Acuuarcy 80.116% \tValidation Acuuarcy 59.233%\n",
      "Epoch: 157 \tTraining Loss: 0.00435478 \tValidation Loss 0.00921042 \tTraining Acuuarcy 80.136% \tValidation Acuuarcy 60.359%\n",
      "Epoch: 158 \tTraining Loss: 0.00433498 \tValidation Loss 0.00917810 \tTraining Acuuarcy 80.042% \tValidation Acuuarcy 60.711%\n",
      "Epoch: 159 \tTraining Loss: 0.00435079 \tValidation Loss 0.00938359 \tTraining Acuuarcy 79.964% \tValidation Acuuarcy 59.515%\n",
      "Epoch: 160 \tTraining Loss: 0.00440611 \tValidation Loss 0.00938338 \tTraining Acuuarcy 79.931% \tValidation Acuuarcy 59.479%\n",
      "Epoch: 161 \tTraining Loss: 0.00436484 \tValidation Loss 0.00944624 \tTraining Acuuarcy 79.920% \tValidation Acuuarcy 58.917%\n",
      "Epoch: 162 \tTraining Loss: 0.00431308 \tValidation Loss 0.00919855 \tTraining Acuuarcy 80.156% \tValidation Acuuarcy 61.027%\n",
      "Epoch: 163 \tTraining Loss: 0.00438813 \tValidation Loss 0.00899420 \tTraining Acuuarcy 79.850% \tValidation Acuuarcy 61.660%\n",
      "Epoch: 164 \tTraining Loss: 0.00432498 \tValidation Loss 0.00888886 \tTraining Acuuarcy 80.372% \tValidation Acuuarcy 61.520%\n",
      "Epoch: 165 \tTraining Loss: 0.00431338 \tValidation Loss 0.00904004 \tTraining Acuuarcy 80.092% \tValidation Acuuarcy 61.836%\n",
      "Epoch: 166 \tTraining Loss: 0.00440648 \tValidation Loss 0.00911823 \tTraining Acuuarcy 80.001% \tValidation Acuuarcy 60.675%\n",
      "Epoch: 167 \tTraining Loss: 0.00441661 \tValidation Loss 0.00945303 \tTraining Acuuarcy 79.894% \tValidation Acuuarcy 60.324%\n",
      "Epoch: 168 \tTraining Loss: 0.00433364 \tValidation Loss 0.00934034 \tTraining Acuuarcy 80.180% \tValidation Acuuarcy 60.113%\n",
      "Epoch: 169 \tTraining Loss: 0.00434722 \tValidation Loss 0.00936002 \tTraining Acuuarcy 80.396% \tValidation Acuuarcy 59.690%\n",
      "Epoch: 170 \tTraining Loss: 0.00440084 \tValidation Loss 0.00922510 \tTraining Acuuarcy 79.681% \tValidation Acuuarcy 59.866%\n",
      "Epoch: 171 \tTraining Loss: 0.00434403 \tValidation Loss 0.00908365 \tTraining Acuuarcy 79.991% \tValidation Acuuarcy 60.781%\n",
      "Epoch: 172 \tTraining Loss: 0.00427579 \tValidation Loss 0.00882391 \tTraining Acuuarcy 80.480% \tValidation Acuuarcy 62.047%\n",
      "Epoch: 173 \tTraining Loss: 0.00426015 \tValidation Loss 0.00930067 \tTraining Acuuarcy 80.588% \tValidation Acuuarcy 60.359%\n",
      "Epoch: 174 \tTraining Loss: 0.00433033 \tValidation Loss 0.00930476 \tTraining Acuuarcy 80.119% \tValidation Acuuarcy 60.605%\n",
      "Epoch: 175 \tTraining Loss: 0.00432846 \tValidation Loss 0.00953189 \tTraining Acuuarcy 80.308% \tValidation Acuuarcy 57.932%\n",
      "Epoch: 176 \tTraining Loss: 0.00435451 \tValidation Loss 0.00932521 \tTraining Acuuarcy 79.846% \tValidation Acuuarcy 60.535%\n",
      "Epoch: 177 \tTraining Loss: 0.00427930 \tValidation Loss 0.00957017 \tTraining Acuuarcy 80.305% \tValidation Acuuarcy 58.881%\n",
      "Epoch: 178 \tTraining Loss: 0.00431019 \tValidation Loss 0.00957164 \tTraining Acuuarcy 80.288% \tValidation Acuuarcy 58.495%\n",
      "Epoch: 179 \tTraining Loss: 0.00437245 \tValidation Loss 0.00977801 \tTraining Acuuarcy 79.769% \tValidation Acuuarcy 57.017%\n",
      "Epoch: 180 \tTraining Loss: 0.00426410 \tValidation Loss 0.00908707 \tTraining Acuuarcy 80.662% \tValidation Acuuarcy 61.133%\n",
      "Epoch: 181 \tTraining Loss: 0.00429462 \tValidation Loss 0.00924611 \tTraining Acuuarcy 80.463% \tValidation Acuuarcy 60.499%\n",
      "Epoch: 182 \tTraining Loss: 0.00438346 \tValidation Loss 0.00968003 \tTraining Acuuarcy 79.951% \tValidation Acuuarcy 59.233%\n",
      "Epoch: 183 \tTraining Loss: 0.00424914 \tValidation Loss 0.00914512 \tTraining Acuuarcy 80.443% \tValidation Acuuarcy 60.711%\n",
      "Epoch: 184 \tTraining Loss: 0.00430775 \tValidation Loss 0.00915274 \tTraining Acuuarcy 80.183% \tValidation Acuuarcy 60.077%\n",
      "Epoch: 185 \tTraining Loss: 0.00430833 \tValidation Loss 0.00914556 \tTraining Acuuarcy 80.365% \tValidation Acuuarcy 60.957%\n",
      "Epoch: 186 \tTraining Loss: 0.00431132 \tValidation Loss 0.00910079 \tTraining Acuuarcy 80.133% \tValidation Acuuarcy 59.831%\n",
      "Epoch: 187 \tTraining Loss: 0.00431137 \tValidation Loss 0.00896897 \tTraining Acuuarcy 80.311% \tValidation Acuuarcy 61.555%\n",
      "Epoch: 188 \tTraining Loss: 0.00426092 \tValidation Loss 0.00899838 \tTraining Acuuarcy 80.443% \tValidation Acuuarcy 61.555%\n",
      "Epoch: 189 \tTraining Loss: 0.00427915 \tValidation Loss 0.00926063 \tTraining Acuuarcy 80.332% \tValidation Acuuarcy 60.675%\n",
      "Epoch: 190 \tTraining Loss: 0.00425652 \tValidation Loss 0.00917688 \tTraining Acuuarcy 80.611% \tValidation Acuuarcy 61.414%\n",
      "Epoch: 191 \tTraining Loss: 0.00432239 \tValidation Loss 0.00983429 \tTraining Acuuarcy 80.315% \tValidation Acuuarcy 59.057%\n",
      "Epoch: 192 \tTraining Loss: 0.00430851 \tValidation Loss 0.00990261 \tTraining Acuuarcy 80.150% \tValidation Acuuarcy 58.424%\n",
      "Epoch: 193 \tTraining Loss: 0.00425401 \tValidation Loss 0.00939534 \tTraining Acuuarcy 80.463% \tValidation Acuuarcy 60.781%\n",
      "Epoch: 194 \tTraining Loss: 0.00419033 \tValidation Loss 0.00955905 \tTraining Acuuarcy 80.763% \tValidation Acuuarcy 59.937%\n",
      "Epoch: 195 \tTraining Loss: 0.00424230 \tValidation Loss 0.00911929 \tTraining Acuuarcy 80.584% \tValidation Acuuarcy 61.238%\n",
      "Epoch: 196 \tTraining Loss: 0.00431662 \tValidation Loss 0.00955545 \tTraining Acuuarcy 80.116% \tValidation Acuuarcy 59.374%\n",
      "Epoch: 197 \tTraining Loss: 0.00423979 \tValidation Loss 0.00934101 \tTraining Acuuarcy 80.564% \tValidation Acuuarcy 60.218%\n",
      "Epoch: 198 \tTraining Loss: 0.00424666 \tValidation Loss 0.00941220 \tTraining Acuuarcy 80.648% \tValidation Acuuarcy 60.711%\n",
      "Epoch: 199 \tTraining Loss: 0.00430829 \tValidation Loss 0.00936836 \tTraining Acuuarcy 80.382% \tValidation Acuuarcy 60.605%\n",
      "Epoch: 200 \tTraining Loss: 0.00422857 \tValidation Loss 0.00931566 \tTraining Acuuarcy 80.537% \tValidation Acuuarcy 60.113%\n",
      "Epoch: 201 \tTraining Loss: 0.00426740 \tValidation Loss 0.00965577 \tTraining Acuuarcy 80.412% \tValidation Acuuarcy 58.917%\n",
      "Epoch: 202 \tTraining Loss: 0.00423995 \tValidation Loss 0.00980400 \tTraining Acuuarcy 80.227% \tValidation Acuuarcy 59.022%\n"
     ]
    },
    {
     "ename": "KeyboardInterrupt",
     "evalue": "",
     "output_type": "error",
     "traceback": [
      "\u001b[0;31m---------------------------------------------------------------------------\u001b[0m",
      "\u001b[0;31mKeyboardInterrupt\u001b[0m                         Traceback (most recent call last)",
      "Cell \u001b[0;32mIn[31], line 1\u001b[0m\n\u001b[0;32m----> 1\u001b[0m \u001b[43mTrain\u001b[49m\u001b[43m(\u001b[49m\u001b[43mepochs\u001b[49m\u001b[43m,\u001b[49m\u001b[43m \u001b[49m\u001b[43mtrain_loader\u001b[49m\u001b[43m,\u001b[49m\u001b[43m \u001b[49m\u001b[43mval_loader\u001b[49m\u001b[43m,\u001b[49m\u001b[43m \u001b[49m\u001b[43mcriterion\u001b[49m\u001b[43m,\u001b[49m\u001b[43m \u001b[49m\u001b[43moptmizer\u001b[49m\u001b[43m,\u001b[49m\u001b[43m \u001b[49m\u001b[43mdevice\u001b[49m\u001b[43m)\u001b[49m\n",
      "Cell \u001b[0;32mIn[8], line 18\u001b[0m, in \u001b[0;36mTrain\u001b[0;34m(epochs, train_loader, val_loader, criterion, optmizer, device)\u001b[0m\n\u001b[1;32m     16\u001b[0m data, labels \u001b[38;5;241m=\u001b[39m data\u001b[38;5;241m.\u001b[39mto(device), labels\u001b[38;5;241m.\u001b[39mto(device)\n\u001b[1;32m     17\u001b[0m optmizer\u001b[38;5;241m.\u001b[39mzero_grad()\n\u001b[0;32m---> 18\u001b[0m outputs \u001b[38;5;241m=\u001b[39m \u001b[43mnet\u001b[49m\u001b[43m(\u001b[49m\u001b[43mdata\u001b[49m\u001b[43m)\u001b[49m\n\u001b[1;32m     19\u001b[0m \u001b[38;5;66;03m#print(outputs[0])\u001b[39;00m\n\u001b[1;32m     20\u001b[0m \u001b[38;5;66;03m#print(outputs[0])\u001b[39;00m\n\u001b[1;32m     21\u001b[0m loss \u001b[38;5;241m=\u001b[39m criterion(outputs,labels)\n",
      "File \u001b[0;32m~/.local/lib/python3.8/site-packages/torch/nn/modules/module.py:1518\u001b[0m, in \u001b[0;36mModule._wrapped_call_impl\u001b[0;34m(self, *args, **kwargs)\u001b[0m\n\u001b[1;32m   1516\u001b[0m     \u001b[38;5;28;01mreturn\u001b[39;00m \u001b[38;5;28mself\u001b[39m\u001b[38;5;241m.\u001b[39m_compiled_call_impl(\u001b[38;5;241m*\u001b[39margs, \u001b[38;5;241m*\u001b[39m\u001b[38;5;241m*\u001b[39mkwargs)  \u001b[38;5;66;03m# type: ignore[misc]\u001b[39;00m\n\u001b[1;32m   1517\u001b[0m \u001b[38;5;28;01melse\u001b[39;00m:\n\u001b[0;32m-> 1518\u001b[0m     \u001b[38;5;28;01mreturn\u001b[39;00m \u001b[38;5;28;43mself\u001b[39;49m\u001b[38;5;241;43m.\u001b[39;49m\u001b[43m_call_impl\u001b[49m\u001b[43m(\u001b[49m\u001b[38;5;241;43m*\u001b[39;49m\u001b[43margs\u001b[49m\u001b[43m,\u001b[49m\u001b[43m \u001b[49m\u001b[38;5;241;43m*\u001b[39;49m\u001b[38;5;241;43m*\u001b[39;49m\u001b[43mkwargs\u001b[49m\u001b[43m)\u001b[49m\n",
      "File \u001b[0;32m~/.local/lib/python3.8/site-packages/torch/nn/modules/module.py:1527\u001b[0m, in \u001b[0;36mModule._call_impl\u001b[0;34m(self, *args, **kwargs)\u001b[0m\n\u001b[1;32m   1522\u001b[0m \u001b[38;5;66;03m# If we don't have any hooks, we want to skip the rest of the logic in\u001b[39;00m\n\u001b[1;32m   1523\u001b[0m \u001b[38;5;66;03m# this function, and just call forward.\u001b[39;00m\n\u001b[1;32m   1524\u001b[0m \u001b[38;5;28;01mif\u001b[39;00m \u001b[38;5;129;01mnot\u001b[39;00m (\u001b[38;5;28mself\u001b[39m\u001b[38;5;241m.\u001b[39m_backward_hooks \u001b[38;5;129;01mor\u001b[39;00m \u001b[38;5;28mself\u001b[39m\u001b[38;5;241m.\u001b[39m_backward_pre_hooks \u001b[38;5;129;01mor\u001b[39;00m \u001b[38;5;28mself\u001b[39m\u001b[38;5;241m.\u001b[39m_forward_hooks \u001b[38;5;129;01mor\u001b[39;00m \u001b[38;5;28mself\u001b[39m\u001b[38;5;241m.\u001b[39m_forward_pre_hooks\n\u001b[1;32m   1525\u001b[0m         \u001b[38;5;129;01mor\u001b[39;00m _global_backward_pre_hooks \u001b[38;5;129;01mor\u001b[39;00m _global_backward_hooks\n\u001b[1;32m   1526\u001b[0m         \u001b[38;5;129;01mor\u001b[39;00m _global_forward_hooks \u001b[38;5;129;01mor\u001b[39;00m _global_forward_pre_hooks):\n\u001b[0;32m-> 1527\u001b[0m     \u001b[38;5;28;01mreturn\u001b[39;00m \u001b[43mforward_call\u001b[49m\u001b[43m(\u001b[49m\u001b[38;5;241;43m*\u001b[39;49m\u001b[43margs\u001b[49m\u001b[43m,\u001b[49m\u001b[43m \u001b[49m\u001b[38;5;241;43m*\u001b[39;49m\u001b[38;5;241;43m*\u001b[39;49m\u001b[43mkwargs\u001b[49m\u001b[43m)\u001b[49m\n\u001b[1;32m   1529\u001b[0m \u001b[38;5;28;01mtry\u001b[39;00m:\n\u001b[1;32m   1530\u001b[0m     result \u001b[38;5;241m=\u001b[39m \u001b[38;5;28;01mNone\u001b[39;00m\n",
      "File \u001b[0;32m~/Deep_emotion_VGG.py:79\u001b[0m, in \u001b[0;36mDeep_Emotion_VGG.forward\u001b[0;34m(self, input)\u001b[0m\n\u001b[1;32m     75\u001b[0m out \u001b[38;5;241m=\u001b[39m \u001b[38;5;28mself\u001b[39m\u001b[38;5;241m.\u001b[39mdropout1(out)\n\u001b[1;32m     77\u001b[0m out \u001b[38;5;241m=\u001b[39m F\u001b[38;5;241m.\u001b[39mrelu(\u001b[38;5;28mself\u001b[39m\u001b[38;5;241m.\u001b[39mpool1(out))\n\u001b[0;32m---> 79\u001b[0m out \u001b[38;5;241m=\u001b[39m F\u001b[38;5;241m.\u001b[39mrelu(\u001b[38;5;28;43mself\u001b[39;49m\u001b[38;5;241;43m.\u001b[39;49m\u001b[43mconv2_1\u001b[49m\u001b[43m(\u001b[49m\u001b[43mout\u001b[49m\u001b[43m)\u001b[49m)\n\u001b[1;32m     80\u001b[0m out \u001b[38;5;241m=\u001b[39m \u001b[38;5;28mself\u001b[39m\u001b[38;5;241m.\u001b[39mdropout1(out)\n\u001b[1;32m     82\u001b[0m out \u001b[38;5;241m=\u001b[39m F\u001b[38;5;241m.\u001b[39mrelu(\u001b[38;5;28mself\u001b[39m\u001b[38;5;241m.\u001b[39mconv2_2(out))\n",
      "File \u001b[0;32m~/.local/lib/python3.8/site-packages/torch/nn/modules/module.py:1518\u001b[0m, in \u001b[0;36mModule._wrapped_call_impl\u001b[0;34m(self, *args, **kwargs)\u001b[0m\n\u001b[1;32m   1516\u001b[0m     \u001b[38;5;28;01mreturn\u001b[39;00m \u001b[38;5;28mself\u001b[39m\u001b[38;5;241m.\u001b[39m_compiled_call_impl(\u001b[38;5;241m*\u001b[39margs, \u001b[38;5;241m*\u001b[39m\u001b[38;5;241m*\u001b[39mkwargs)  \u001b[38;5;66;03m# type: ignore[misc]\u001b[39;00m\n\u001b[1;32m   1517\u001b[0m \u001b[38;5;28;01melse\u001b[39;00m:\n\u001b[0;32m-> 1518\u001b[0m     \u001b[38;5;28;01mreturn\u001b[39;00m \u001b[38;5;28;43mself\u001b[39;49m\u001b[38;5;241;43m.\u001b[39;49m\u001b[43m_call_impl\u001b[49m\u001b[43m(\u001b[49m\u001b[38;5;241;43m*\u001b[39;49m\u001b[43margs\u001b[49m\u001b[43m,\u001b[49m\u001b[43m \u001b[49m\u001b[38;5;241;43m*\u001b[39;49m\u001b[38;5;241;43m*\u001b[39;49m\u001b[43mkwargs\u001b[49m\u001b[43m)\u001b[49m\n",
      "File \u001b[0;32m~/.local/lib/python3.8/site-packages/torch/nn/modules/module.py:1527\u001b[0m, in \u001b[0;36mModule._call_impl\u001b[0;34m(self, *args, **kwargs)\u001b[0m\n\u001b[1;32m   1522\u001b[0m \u001b[38;5;66;03m# If we don't have any hooks, we want to skip the rest of the logic in\u001b[39;00m\n\u001b[1;32m   1523\u001b[0m \u001b[38;5;66;03m# this function, and just call forward.\u001b[39;00m\n\u001b[1;32m   1524\u001b[0m \u001b[38;5;28;01mif\u001b[39;00m \u001b[38;5;129;01mnot\u001b[39;00m (\u001b[38;5;28mself\u001b[39m\u001b[38;5;241m.\u001b[39m_backward_hooks \u001b[38;5;129;01mor\u001b[39;00m \u001b[38;5;28mself\u001b[39m\u001b[38;5;241m.\u001b[39m_backward_pre_hooks \u001b[38;5;129;01mor\u001b[39;00m \u001b[38;5;28mself\u001b[39m\u001b[38;5;241m.\u001b[39m_forward_hooks \u001b[38;5;129;01mor\u001b[39;00m \u001b[38;5;28mself\u001b[39m\u001b[38;5;241m.\u001b[39m_forward_pre_hooks\n\u001b[1;32m   1525\u001b[0m         \u001b[38;5;129;01mor\u001b[39;00m _global_backward_pre_hooks \u001b[38;5;129;01mor\u001b[39;00m _global_backward_hooks\n\u001b[1;32m   1526\u001b[0m         \u001b[38;5;129;01mor\u001b[39;00m _global_forward_hooks \u001b[38;5;129;01mor\u001b[39;00m _global_forward_pre_hooks):\n\u001b[0;32m-> 1527\u001b[0m     \u001b[38;5;28;01mreturn\u001b[39;00m \u001b[43mforward_call\u001b[49m\u001b[43m(\u001b[49m\u001b[38;5;241;43m*\u001b[39;49m\u001b[43margs\u001b[49m\u001b[43m,\u001b[49m\u001b[43m \u001b[49m\u001b[38;5;241;43m*\u001b[39;49m\u001b[38;5;241;43m*\u001b[39;49m\u001b[43mkwargs\u001b[49m\u001b[43m)\u001b[49m\n\u001b[1;32m   1529\u001b[0m \u001b[38;5;28;01mtry\u001b[39;00m:\n\u001b[1;32m   1530\u001b[0m     result \u001b[38;5;241m=\u001b[39m \u001b[38;5;28;01mNone\u001b[39;00m\n",
      "File \u001b[0;32m~/.local/lib/python3.8/site-packages/torch/nn/modules/conv.py:460\u001b[0m, in \u001b[0;36mConv2d.forward\u001b[0;34m(self, input)\u001b[0m\n\u001b[1;32m    459\u001b[0m \u001b[38;5;28;01mdef\u001b[39;00m \u001b[38;5;21mforward\u001b[39m(\u001b[38;5;28mself\u001b[39m, \u001b[38;5;28minput\u001b[39m: Tensor) \u001b[38;5;241m-\u001b[39m\u001b[38;5;241m>\u001b[39m Tensor:\n\u001b[0;32m--> 460\u001b[0m     \u001b[38;5;28;01mreturn\u001b[39;00m \u001b[38;5;28;43mself\u001b[39;49m\u001b[38;5;241;43m.\u001b[39;49m\u001b[43m_conv_forward\u001b[49m\u001b[43m(\u001b[49m\u001b[38;5;28;43minput\u001b[39;49m\u001b[43m,\u001b[49m\u001b[43m \u001b[49m\u001b[38;5;28;43mself\u001b[39;49m\u001b[38;5;241;43m.\u001b[39;49m\u001b[43mweight\u001b[49m\u001b[43m,\u001b[49m\u001b[43m \u001b[49m\u001b[38;5;28;43mself\u001b[39;49m\u001b[38;5;241;43m.\u001b[39;49m\u001b[43mbias\u001b[49m\u001b[43m)\u001b[49m\n",
      "File \u001b[0;32m~/.local/lib/python3.8/site-packages/torch/nn/modules/conv.py:456\u001b[0m, in \u001b[0;36mConv2d._conv_forward\u001b[0;34m(self, input, weight, bias)\u001b[0m\n\u001b[1;32m    452\u001b[0m \u001b[38;5;28;01mif\u001b[39;00m \u001b[38;5;28mself\u001b[39m\u001b[38;5;241m.\u001b[39mpadding_mode \u001b[38;5;241m!=\u001b[39m \u001b[38;5;124m'\u001b[39m\u001b[38;5;124mzeros\u001b[39m\u001b[38;5;124m'\u001b[39m:\n\u001b[1;32m    453\u001b[0m     \u001b[38;5;28;01mreturn\u001b[39;00m F\u001b[38;5;241m.\u001b[39mconv2d(F\u001b[38;5;241m.\u001b[39mpad(\u001b[38;5;28minput\u001b[39m, \u001b[38;5;28mself\u001b[39m\u001b[38;5;241m.\u001b[39m_reversed_padding_repeated_twice, mode\u001b[38;5;241m=\u001b[39m\u001b[38;5;28mself\u001b[39m\u001b[38;5;241m.\u001b[39mpadding_mode),\n\u001b[1;32m    454\u001b[0m                     weight, bias, \u001b[38;5;28mself\u001b[39m\u001b[38;5;241m.\u001b[39mstride,\n\u001b[1;32m    455\u001b[0m                     _pair(\u001b[38;5;241m0\u001b[39m), \u001b[38;5;28mself\u001b[39m\u001b[38;5;241m.\u001b[39mdilation, \u001b[38;5;28mself\u001b[39m\u001b[38;5;241m.\u001b[39mgroups)\n\u001b[0;32m--> 456\u001b[0m \u001b[38;5;28;01mreturn\u001b[39;00m \u001b[43mF\u001b[49m\u001b[38;5;241;43m.\u001b[39;49m\u001b[43mconv2d\u001b[49m\u001b[43m(\u001b[49m\u001b[38;5;28;43minput\u001b[39;49m\u001b[43m,\u001b[49m\u001b[43m \u001b[49m\u001b[43mweight\u001b[49m\u001b[43m,\u001b[49m\u001b[43m \u001b[49m\u001b[43mbias\u001b[49m\u001b[43m,\u001b[49m\u001b[43m \u001b[49m\u001b[38;5;28;43mself\u001b[39;49m\u001b[38;5;241;43m.\u001b[39;49m\u001b[43mstride\u001b[49m\u001b[43m,\u001b[49m\n\u001b[1;32m    457\u001b[0m \u001b[43m                \u001b[49m\u001b[38;5;28;43mself\u001b[39;49m\u001b[38;5;241;43m.\u001b[39;49m\u001b[43mpadding\u001b[49m\u001b[43m,\u001b[49m\u001b[43m \u001b[49m\u001b[38;5;28;43mself\u001b[39;49m\u001b[38;5;241;43m.\u001b[39;49m\u001b[43mdilation\u001b[49m\u001b[43m,\u001b[49m\u001b[43m \u001b[49m\u001b[38;5;28;43mself\u001b[39;49m\u001b[38;5;241;43m.\u001b[39;49m\u001b[43mgroups\u001b[49m\u001b[43m)\u001b[49m\n",
      "\u001b[0;31mKeyboardInterrupt\u001b[0m: "
     ]
    }
   ],
   "source": [
    "Train(epochs, train_loader, val_loader, criterion, optmizer, device)"
   ]
  },
  {
   "cell_type": "code",
   "execution_count": 32,
   "id": "042614ad-5f9e-419d-bc5e-7c8917677abb",
   "metadata": {},
   "outputs": [],
   "source": [
    "test_dataset= Plain_Dataset(csv_file=\"data2/test.csv\", img_dir = \"data2/test/\", datatype = 'test', transform = transformation)\n"
   ]
  },
  {
   "cell_type": "code",
   "execution_count": 33,
   "id": "14a4ea7e-3d1b-4e1a-9eb4-68f4e4ce8fc2",
   "metadata": {},
   "outputs": [],
   "source": [
    "test_loader=   DataLoader(test_dataset,batch_size=batchsize,shuffle = True,num_workers=0)"
   ]
  },
  {
   "cell_type": "code",
   "execution_count": 34,
   "id": "602da9db-6068-4ea0-8d0a-18f86f1017f5",
   "metadata": {},
   "outputs": [
    {
     "name": "stderr",
     "output_type": "stream",
     "text": [
      "/home/youssef/.local/lib/python3.8/site-packages/torch/nn/functional.py:4358: UserWarning: Default grid_sample and affine_grid behavior has changed to align_corners=False since 1.3.0. Please specify align_corners=True if the old behavior is desired. See the documentation of grid_sample for details.\n",
      "  warnings.warn(\n",
      "/home/youssef/.local/lib/python3.8/site-packages/torch/nn/functional.py:4296: UserWarning: Default grid_sample and affine_grid behavior has changed to align_corners=False since 1.3.0. Please specify align_corners=True if the old behavior is desired. See the documentation of grid_sample for details.\n",
      "  warnings.warn(\n"
     ]
    }
   ],
   "source": [
    "test_result = []\n",
    "test_loss = 0\n",
    "test_correct = 0\n",
    "for data,labels in test_loader:\n",
    "            data, labels = data.to(device), labels.to(device)\n",
    "            test_outputs = net(data)\n",
    "            #print(val_outputs[0][3])\n",
    "            #print(labels[0])\n",
    "            t_loss = criterion(test_outputs, labels)\n",
    "            test_loss += t_loss.item()\n",
    "            _, test_preds = torch.max(test_outputs,1)\n",
    "            test_result.append(torch.max(test_outputs,1))\n",
    "            test_correct += torch.sum(test_preds == labels.data)"
   ]
  },
  {
   "cell_type": "code",
   "execution_count": 35,
   "id": "77399167-fe56-44ee-8a5d-0d1694a8ab08",
   "metadata": {},
   "outputs": [
    {
     "name": "stdout",
     "output_type": "stream",
     "text": [
      "Final accuracy on the testing set =  tensor(0.6039)\n"
     ]
    }
   ],
   "source": [
    "print(\"Final accuracy on the testing set = \", test_correct/7099)"
   ]
  },
  {
   "cell_type": "code",
   "execution_count": 36,
   "id": "c1c3fd4a-904b-480f-b393-5e7e643d6e82",
   "metadata": {},
   "outputs": [
    {
     "name": "stderr",
     "output_type": "stream",
     "text": [
      "/home/youssef/.local/lib/python3.8/site-packages/torch/nn/functional.py:4358: UserWarning: Default grid_sample and affine_grid behavior has changed to align_corners=False since 1.3.0. Please specify align_corners=True if the old behavior is desired. See the documentation of grid_sample for details.\n",
      "  warnings.warn(\n",
      "/home/youssef/.local/lib/python3.8/site-packages/torch/nn/functional.py:4296: UserWarning: Default grid_sample and affine_grid behavior has changed to align_corners=False since 1.3.0. Please specify align_corners=True if the old behavior is desired. See the documentation of grid_sample for details.\n",
      "  warnings.warn(\n"
     ]
    }
   ],
   "source": [
    "from sklearn.metrics import confusion_matrix\n",
    "import seaborn as sn\n",
    "import pandas as pd\n",
    "\n",
    "y_pred = []\n",
    "y_true = []\n",
    "for inputs, labels in test_loader:\n",
    "        output = net(inputs) # Feed Network\n",
    "\n",
    "        output = (torch.max(torch.exp(output), 1)[1]).data.cpu().numpy()\n",
    "        y_pred.extend(output) # Save Prediction\n",
    "        \n",
    "        labels = labels.data.cpu().numpy()\n",
    "        y_true.extend(labels) # Save Truth"
   ]
  },
  {
   "cell_type": "code",
   "execution_count": 37,
   "id": "80d0c30e-ab2a-4ab2-bb7e-f11ddd80809d",
   "metadata": {},
   "outputs": [],
   "source": [
    "test_result = []\n",
    "test_loss = 0\n",
    "test_correct = 0\n",
    "for data,labels in test_loader:\n",
    "            data, labels = data.to(device), labels.to(device)\n",
    "            test_outputs = net(data)\n",
    "            #print(val_outputs[0][3])\n",
    "            #print(labels[0])\n",
    "            t_loss = criterion(test_outputs, labels)\n",
    "            test_loss += t_loss.item()\n",
    "            _, test_preds = torch.max(test_outputs,1)\n",
    "            test_result.append(torch.max(test_outputs,1))\n",
    "            test_correct += torch.sum(test_preds == labels.data)"
   ]
  },
  {
   "cell_type": "code",
   "execution_count": 38,
   "id": "858913f7-0fb9-4b9a-a151-ff75a80de349",
   "metadata": {},
   "outputs": [],
   "source": [
    "classes = ('Anger', 'Contempt', 'Disgust', 'Fear', 'Happiness',\n",
    "        'Neutral', 'Sadness', 'Surprise')"
   ]
  },
  {
   "cell_type": "code",
   "execution_count": 39,
   "id": "bc8f3688-1ced-4b6f-b29b-d8ddcaf273de",
   "metadata": {},
   "outputs": [
    {
     "data": {
      "image/png": "[encoded data removed]",
      "text/plain": [
       "<Figure size 1200x700 with 2 Axes>"
      ]
     },
     "metadata": {},
     "output_type": "display_data"
    }
   ],
   "source": [
    "import matplotlib.pyplot as plt\n",
    "cf_matrix = confusion_matrix(y_true, y_pred)\n",
    "df_cm = pd.DataFrame(cf_matrix / np.sum(cf_matrix, axis=1)[:, None], index = [i for i in classes],\n",
    "                     columns = [i for i in classes])\n",
    "plt.figure(figsize = (12,7))\n",
    "sn.heatmap(df_cm, annot=True)\n",
    "plt.savefig('output.png')"
   ]
  },
  {
   "cell_type": "code",
   "execution_count": 40,
   "id": "d179a8a8-d65d-4bf2-aa88-3a2ad73feeb5",
   "metadata": {},
   "outputs": [],
   "source": [
    "from sklearn.metrics import precision_score, recall_score"
   ]
  },
  {
   "cell_type": "code",
   "execution_count": 44,
   "id": "bb2929c8-9fd6-40ba-8cef-e489ffdff057",
   "metadata": {},
   "outputs": [
    {
     "name": "stdout",
     "output_type": "stream",
     "text": [
      "0.5979715452880687\n"
     ]
    }
   ],
   "source": [
    "print(precision_score(y_true, y_pred, average = \"micro\"))"
   ]
  },
  {
   "cell_type": "code",
   "execution_count": 45,
   "id": "549511dd-18ed-40c1-a601-fa59657c3d06",
   "metadata": {},
   "outputs": [
    {
     "name": "stdout",
     "output_type": "stream",
     "text": [
      "0.43171261949937834\n"
     ]
    }
   ],
   "source": [
    "print(precision_score(y_true, y_pred, average = \"macro\"))"
   ]
  },
  {
   "cell_type": "code",
   "execution_count": 42,
   "id": "057f57b6-dde5-469a-8dac-4fcc7951701a",
   "metadata": {},
   "outputs": [
    {
     "name": "stdout",
     "output_type": "stream",
     "text": [
      "0.5979715452880687\n"
     ]
    }
   ],
   "source": [
    "print(recall_score(y_true, y_pred, average = \"micro\"))"
   ]
  },
  {
   "cell_type": "code",
   "execution_count": 43,
   "id": "ce6446e4-51ac-487f-86bc-68db6487d772",
   "metadata": {},
   "outputs": [
    {
     "name": "stdout",
     "output_type": "stream",
     "text": [
      "0.5185216566211596\n"
     ]
    }
   ],
   "source": [
    "print(recall_score(y_true, y_pred, average = \"macro\"))"
   ]
  },
  {
   "cell_type": "code",
   "execution_count": null,
   "id": "4feccd95-a80a-488d-b015-1a12bc30f398",
   "metadata": {},
   "outputs": [],
   "source": []
  }
 ],
 "metadata": {
  "kernelspec": {
   "display_name": "Python 3 (ipykernel)",
   "language": "python",
   "name": "python3"
  },
  "language_info": {
   "codemirror_mode": {
    "name": "ipython",
    "version": 3
   },
   "file_extension": ".py",
   "mimetype": "text/x-python",
   "name": "python",
   "nbconvert_exporter": "python",
   "pygments_lexer": "ipython3",
   "version": "3.8.10"
  }
 },
 "nbformat": 4,
 "nbformat_minor": 5
}
