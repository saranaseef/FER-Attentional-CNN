{
 "cells": [
  {
   "cell_type": "code",
   "execution_count": 42,
   "id": "3d146cf2",
   "metadata": {},
   "outputs": [],
   "source": [
    "import numpy as np"
   ]
  },
  {
   "cell_type": "code",
   "execution_count": 43,
   "id": "f6da49d8",
   "metadata": {},
   "outputs": [],
   "source": [
    "import torch"
   ]
  },
  {
   "cell_type": "code",
   "execution_count": 44,
   "id": "a06ede90",
   "metadata": {},
   "outputs": [],
   "source": [
    "from __future__ import print_function\n",
    "import argparse\n",
    "import numpy  as np\n",
    "from PIL import Image\n",
    "import torch\n",
    "import torch.nn as nn\n",
    "import torch.nn.functional as F\n",
    "import torchvision\n",
    "import torch.optim as optim\n",
    "from torch.utils.data import DataLoader, Dataset\n",
    "from torch.utils.data.sampler import SubsetRandomSampler\n",
    "from torchvision import transforms"
   ]
  },
  {
   "cell_type": "code",
   "execution_count": 45,
   "id": "b00b7d08",
   "metadata": {},
   "outputs": [],
   "source": [
    "import data_loaders"
   ]
  },
  {
   "cell_type": "code",
   "execution_count": 46,
   "id": "8da08d42",
   "metadata": {},
   "outputs": [],
   "source": [
    "from data_loaders import Plain_Dataset, eval_data_dataloader"
   ]
  },
  {
   "cell_type": "code",
   "execution_count": 373,
   "id": "c8e6036b",
   "metadata": {},
   "outputs": [],
   "source": [
    "from SQ_EX_Att import SECNN"
   ]
  },
  {
   "cell_type": "code",
   "execution_count": 741,
   "id": "b3acda27",
   "metadata": {},
   "outputs": [],
   "source": [
    "device1 = torch.device(\"cpu\" if torch.cuda.is_available() else \"cpu\")"
   ]
  },
  {
   "cell_type": "code",
   "execution_count": 742,
   "id": "57de7b1b",
   "metadata": {},
   "outputs": [],
   "source": [
    "device2 = torch.device(\"cpu\" if torch.cuda.is_available() else \"cpu\")"
   ]
  },
  {
   "cell_type": "code",
   "execution_count": 743,
   "id": "0498b33f",
   "metadata": {},
   "outputs": [],
   "source": [
    "device3 = torch.device(\"cpu\" if torch.cuda.is_available() else \"cpu\")"
   ]
  },
  {
   "cell_type": "code",
   "execution_count": 860,
   "id": "74c213a5",
   "metadata": {},
   "outputs": [],
   "source": [
    "input_shape = (3, 48, 48)\n",
    "model1 = SECNN(input_shape,num_classes=8)"
   ]
  },
  {
   "cell_type": "code",
   "execution_count": 861,
   "id": "fcbc98c7",
   "metadata": {},
   "outputs": [],
   "source": [
    "input_shape = (3, 48, 48)\n",
    "model2 = SECNN(input_shape,num_classes=8)"
   ]
  },
  {
   "cell_type": "code",
   "execution_count": 862,
   "id": "2837a280",
   "metadata": {},
   "outputs": [],
   "source": [
    "input_shape = (3, 48, 48)\n",
    "model3 = SECNN(input_shape,num_classes=8)"
   ]
  },
  {
   "cell_type": "code",
   "execution_count": 863,
   "id": "22e5dee5",
   "metadata": {},
   "outputs": [],
   "source": [
    "def vote(tally):\n",
    "    \"\"\"\n",
    "    Perform a vote on each element of the given lists.\n",
    "    In case of a tie, the value from the first list is chosen.\n",
    "    \n",
    "    Parameters:\n",
    "    - tally: List of lists, each of the same length.\n",
    "    \n",
    "    Returns:\n",
    "    - List containing the voted values.\n",
    "    \"\"\"\n",
    "    result = []\n",
    "    list_len = len(tally[0])\n",
    "\n",
    "    for i in range(list_len):\n",
    "        # Count occurrences of each element in the current position\n",
    "        counts = {}\n",
    "        for lst in tally:\n",
    "            value = lst[i]\n",
    "            counts[value] = counts.get(value, 0) + 1\n",
    "        \n",
    "        # Find the element with the maximum count\n",
    "        max_count = max(counts.values())\n",
    "        candidates = [key for key, count in counts.items() if count == max_count]\n",
    "        \n",
    "        # Choose the winner, or use the value from the first list in case of a tie\n",
    "        winner = candidates[0] if len(candidates) == 1 else tally[0][i]\n",
    "        result.append(winner)\n",
    "\n",
    "    return result\n"
   ]
  },
  {
   "cell_type": "code",
   "execution_count": 864,
   "id": "6dfa0dbc",
   "metadata": {},
   "outputs": [],
   "source": [
    "classes = ('Anger', 'Contempt', 'Disgust', 'Fear', 'Happiness',\n",
    "        'Neutral', 'Sadness', 'Surprise')"
   ]
  },
  {
   "cell_type": "code",
   "execution_count": 866,
   "id": "ad268f82",
   "metadata": {},
   "outputs": [
    {
     "data": {
      "text/plain": [
       "<All keys matched successfully>"
      ]
     },
     "execution_count": 866,
     "metadata": {},
     "output_type": "execute_result"
    }
   ],
   "source": [
    "model1.load_state_dict(torch.load(\"SQEX_weights\"))\n",
    "model2.load_state_dict(torch.load(\"SQEX_weights2\"))\n",
    "model3.load_state_dict(torch.load(\"SQEX_weights3\"))\n"
   ]
  },
  {
   "cell_type": "code",
   "execution_count": 867,
   "id": "40fa8d74",
   "metadata": {},
   "outputs": [
    {
     "data": {
      "text/plain": [
       "SECNN(\n",
       "  (conv1): Conv2d(3, 8, kernel_size=(3, 3), stride=(1, 1), padding=(1, 1))\n",
       "  (dropout1): Dropout(p=0.1, inplace=False)\n",
       "  (se1): SqueezeExciteBlock(\n",
       "    (squeeze): AdaptiveAvgPool2d(output_size=1)\n",
       "    (fc1): Linear(in_features=8, out_features=1, bias=True)\n",
       "    (relu): ReLU(inplace=True)\n",
       "    (fc2): Linear(in_features=1, out_features=8, bias=True)\n",
       "    (sigmoid): Sigmoid()\n",
       "  )\n",
       "  (conv2): Conv2d(8, 8, kernel_size=(3, 3), stride=(1, 1), padding=(1, 1))\n",
       "  (dropout2): Dropout(p=0.1, inplace=False)\n",
       "  (se2): SqueezeExciteBlock(\n",
       "    (squeeze): AdaptiveAvgPool2d(output_size=1)\n",
       "    (fc1): Linear(in_features=8, out_features=1, bias=True)\n",
       "    (relu): ReLU(inplace=True)\n",
       "    (fc2): Linear(in_features=1, out_features=8, bias=True)\n",
       "    (sigmoid): Sigmoid()\n",
       "  )\n",
       "  (conv3): Conv2d(8, 16, kernel_size=(3, 3), stride=(1, 1), padding=(1, 1))\n",
       "  (dropout3): Dropout(p=0.1, inplace=False)\n",
       "  (se3): SqueezeExciteBlock(\n",
       "    (squeeze): AdaptiveAvgPool2d(output_size=1)\n",
       "    (fc1): Linear(in_features=16, out_features=2, bias=True)\n",
       "    (relu): ReLU(inplace=True)\n",
       "    (fc2): Linear(in_features=2, out_features=16, bias=True)\n",
       "    (sigmoid): Sigmoid()\n",
       "  )\n",
       "  (conv4): Conv2d(16, 32, kernel_size=(3, 3), stride=(1, 1), padding=(1, 1))\n",
       "  (dropout4): Dropout(p=0.1, inplace=False)\n",
       "  (se4): SqueezeExciteBlock(\n",
       "    (squeeze): AdaptiveAvgPool2d(output_size=1)\n",
       "    (fc1): Linear(in_features=32, out_features=4, bias=True)\n",
       "    (relu): ReLU(inplace=True)\n",
       "    (fc2): Linear(in_features=4, out_features=32, bias=True)\n",
       "    (sigmoid): Sigmoid()\n",
       "  )\n",
       "  (pool): MaxPool2d(kernel_size=2, stride=2, padding=0, dilation=1, ceil_mode=False)\n",
       "  (global_pool): AdaptiveAvgPool2d(output_size=1)\n",
       "  (fc): Linear(in_features=32, out_features=8, bias=True)\n",
       ")"
      ]
     },
     "execution_count": 867,
     "metadata": {},
     "output_type": "execute_result"
    }
   ],
   "source": [
    "model1.to(device1)"
   ]
  },
  {
   "cell_type": "code",
   "execution_count": 868,
   "id": "7545c484",
   "metadata": {},
   "outputs": [
    {
     "data": {
      "text/plain": [
       "SECNN(\n",
       "  (conv1): Conv2d(3, 8, kernel_size=(3, 3), stride=(1, 1), padding=(1, 1))\n",
       "  (dropout1): Dropout(p=0.1, inplace=False)\n",
       "  (se1): SqueezeExciteBlock(\n",
       "    (squeeze): AdaptiveAvgPool2d(output_size=1)\n",
       "    (fc1): Linear(in_features=8, out_features=1, bias=True)\n",
       "    (relu): ReLU(inplace=True)\n",
       "    (fc2): Linear(in_features=1, out_features=8, bias=True)\n",
       "    (sigmoid): Sigmoid()\n",
       "  )\n",
       "  (conv2): Conv2d(8, 8, kernel_size=(3, 3), stride=(1, 1), padding=(1, 1))\n",
       "  (dropout2): Dropout(p=0.1, inplace=False)\n",
       "  (se2): SqueezeExciteBlock(\n",
       "    (squeeze): AdaptiveAvgPool2d(output_size=1)\n",
       "    (fc1): Linear(in_features=8, out_features=1, bias=True)\n",
       "    (relu): ReLU(inplace=True)\n",
       "    (fc2): Linear(in_features=1, out_features=8, bias=True)\n",
       "    (sigmoid): Sigmoid()\n",
       "  )\n",
       "  (conv3): Conv2d(8, 16, kernel_size=(3, 3), stride=(1, 1), padding=(1, 1))\n",
       "  (dropout3): Dropout(p=0.1, inplace=False)\n",
       "  (se3): SqueezeExciteBlock(\n",
       "    (squeeze): AdaptiveAvgPool2d(output_size=1)\n",
       "    (fc1): Linear(in_features=16, out_features=2, bias=True)\n",
       "    (relu): ReLU(inplace=True)\n",
       "    (fc2): Linear(in_features=2, out_features=16, bias=True)\n",
       "    (sigmoid): Sigmoid()\n",
       "  )\n",
       "  (conv4): Conv2d(16, 32, kernel_size=(3, 3), stride=(1, 1), padding=(1, 1))\n",
       "  (dropout4): Dropout(p=0.1, inplace=False)\n",
       "  (se4): SqueezeExciteBlock(\n",
       "    (squeeze): AdaptiveAvgPool2d(output_size=1)\n",
       "    (fc1): Linear(in_features=32, out_features=4, bias=True)\n",
       "    (relu): ReLU(inplace=True)\n",
       "    (fc2): Linear(in_features=4, out_features=32, bias=True)\n",
       "    (sigmoid): Sigmoid()\n",
       "  )\n",
       "  (pool): MaxPool2d(kernel_size=2, stride=2, padding=0, dilation=1, ceil_mode=False)\n",
       "  (global_pool): AdaptiveAvgPool2d(output_size=1)\n",
       "  (fc): Linear(in_features=32, out_features=8, bias=True)\n",
       ")"
      ]
     },
     "execution_count": 868,
     "metadata": {},
     "output_type": "execute_result"
    }
   ],
   "source": [
    "model2.to(device2)"
   ]
  },
  {
   "cell_type": "code",
   "execution_count": 869,
   "id": "d8081b6e",
   "metadata": {},
   "outputs": [
    {
     "data": {
      "text/plain": [
       "SECNN(\n",
       "  (conv1): Conv2d(3, 8, kernel_size=(3, 3), stride=(1, 1), padding=(1, 1))\n",
       "  (dropout1): Dropout(p=0.1, inplace=False)\n",
       "  (se1): SqueezeExciteBlock(\n",
       "    (squeeze): AdaptiveAvgPool2d(output_size=1)\n",
       "    (fc1): Linear(in_features=8, out_features=1, bias=True)\n",
       "    (relu): ReLU(inplace=True)\n",
       "    (fc2): Linear(in_features=1, out_features=8, bias=True)\n",
       "    (sigmoid): Sigmoid()\n",
       "  )\n",
       "  (conv2): Conv2d(8, 8, kernel_size=(3, 3), stride=(1, 1), padding=(1, 1))\n",
       "  (dropout2): Dropout(p=0.1, inplace=False)\n",
       "  (se2): SqueezeExciteBlock(\n",
       "    (squeeze): AdaptiveAvgPool2d(output_size=1)\n",
       "    (fc1): Linear(in_features=8, out_features=1, bias=True)\n",
       "    (relu): ReLU(inplace=True)\n",
       "    (fc2): Linear(in_features=1, out_features=8, bias=True)\n",
       "    (sigmoid): Sigmoid()\n",
       "  )\n",
       "  (conv3): Conv2d(8, 16, kernel_size=(3, 3), stride=(1, 1), padding=(1, 1))\n",
       "  (dropout3): Dropout(p=0.1, inplace=False)\n",
       "  (se3): SqueezeExciteBlock(\n",
       "    (squeeze): AdaptiveAvgPool2d(output_size=1)\n",
       "    (fc1): Linear(in_features=16, out_features=2, bias=True)\n",
       "    (relu): ReLU(inplace=True)\n",
       "    (fc2): Linear(in_features=2, out_features=16, bias=True)\n",
       "    (sigmoid): Sigmoid()\n",
       "  )\n",
       "  (conv4): Conv2d(16, 32, kernel_size=(3, 3), stride=(1, 1), padding=(1, 1))\n",
       "  (dropout4): Dropout(p=0.1, inplace=False)\n",
       "  (se4): SqueezeExciteBlock(\n",
       "    (squeeze): AdaptiveAvgPool2d(output_size=1)\n",
       "    (fc1): Linear(in_features=32, out_features=4, bias=True)\n",
       "    (relu): ReLU(inplace=True)\n",
       "    (fc2): Linear(in_features=4, out_features=32, bias=True)\n",
       "    (sigmoid): Sigmoid()\n",
       "  )\n",
       "  (pool): MaxPool2d(kernel_size=2, stride=2, padding=0, dilation=1, ceil_mode=False)\n",
       "  (global_pool): AdaptiveAvgPool2d(output_size=1)\n",
       "  (fc): Linear(in_features=32, out_features=8, bias=True)\n",
       ")"
      ]
     },
     "execution_count": 869,
     "metadata": {},
     "output_type": "execute_result"
    }
   ],
   "source": [
    "model3.to(device3)"
   ]
  },
  {
   "cell_type": "code",
   "execution_count": 870,
   "id": "52bee987",
   "metadata": {},
   "outputs": [],
   "source": [
    "test_dataset= Plain_Dataset(csv_file=\"demo.csv\", img_dir = \"demo1/\", datatype = 'demo', transform = transformation)\n",
    "test_loader=   DataLoader(test_dataset,batch_size=1,shuffle = True,num_workers=0)"
   ]
  },
  {
   "cell_type": "code",
   "execution_count": 871,
   "id": "5e904000",
   "metadata": {},
   "outputs": [],
   "source": [
    "transformation= transforms.Compose([transforms.ToTensor(),transforms.Normalize((0.5,),(0.5,))])"
   ]
  },
  {
   "cell_type": "code",
   "execution_count": 872,
   "id": "a6665d36",
   "metadata": {},
   "outputs": [
    {
     "data": {
      "image/png": "[encoded data removed]",
      "text/plain": [
       "<Figure size 300x200 with 1 Axes>"
      ]
     },
     "metadata": {},
     "output_type": "display_data"
    }
   ],
   "source": [
    "import matplotlib.pyplot as plt\n",
    "import matplotlib.image as mpimg\n",
    "image_path = 'demo1/demo0.jpg'\n",
    "\n",
    "# Set the desired figure size (e.g., (10, 8) inches)\n",
    "figsize = (3, 2)\n",
    "\n",
    "# Load and display the image using Matplotlib\n",
    "img = mpimg.imread(image_path)\n",
    "plt.figure(figsize=figsize)\n",
    "plt.imshow(img)\n",
    "plt.axis('off')  # Turn off axis labels if needed\n",
    "plt.show()"
   ]
  },
  {
   "cell_type": "code",
   "execution_count": 873,
   "id": "6a2758f2",
   "metadata": {},
   "outputs": [
    {
     "name": "stdout",
     "output_type": "stream",
     "text": [
      "Happiness\n"
     ]
    }
   ],
   "source": [
    "from sklearn.metrics import confusion_matrix\n",
    "import seaborn as sn\n",
    "import pandas as pd\n",
    "\n",
    "y_pred1 = []\n",
    "y_pred2= []\n",
    "y_pred3 = []\n",
    "y_true = []\n",
    "for inputs, labels in test_loader:\n",
    "        inputs, labels = inputs.to(device1), labels.to(device1)\n",
    "\n",
    "        output1 = model1(inputs) # Feed Network\n",
    "        \n",
    "        output1 = (torch.max(torch.exp(output1), 1)[1]).data.cpu().numpy()\n",
    "        y_pred1.extend(output1) # Save Prediction\n",
    "        inputs, labels = inputs.to(device2), labels.to(device2)\n",
    "        \n",
    "        output2 = model2(inputs) # Feed Network\n",
    "\n",
    "        output2 = (torch.max(torch.exp(output2), 1)[1]).data.cpu().numpy()\n",
    "        y_pred2.extend(output2) # Save Prediction\n",
    "        \n",
    "        inputs, labels = inputs.to(device3), labels.to(device3)\n",
    "\n",
    "        output3 = model3(inputs) # Feed Network\n",
    "\n",
    "        output3 = (torch.max(torch.exp(output3), 1)[1]).data.cpu().numpy()\n",
    "        y_pred3.extend(output3) # Save Prediction\n",
    "\n",
    "        \n",
    "        labels = labels.data.cpu().numpy()\n",
    "        y_true.extend(labels) # Save Truth\n",
    "result = vote([y_pred1, y_pred2, y_pred3])\n",
    "print(classes[result[0]])"
   ]
  },
  {
   "cell_type": "code",
   "execution_count": 874,
   "id": "3e0738d0",
   "metadata": {},
   "outputs": [],
   "source": [
    "test_dataset= Plain_Dataset(csv_file=\"demo.csv\", img_dir = \"demo2/\", datatype = 'demo', transform = transformation)\n",
    "test_loader=   DataLoader(test_dataset,batch_size=1,shuffle = True,num_workers=0)"
   ]
  },
  {
   "cell_type": "code",
   "execution_count": 875,
   "id": "7a2c9c97",
   "metadata": {},
   "outputs": [
    {
     "data": {
      "image/png": "[encoded data removed]",
      "text/plain": [
       "<Figure size 300x200 with 1 Axes>"
      ]
     },
     "metadata": {},
     "output_type": "display_data"
    }
   ],
   "source": [
    "import matplotlib.pyplot as plt\n",
    "import matplotlib.image as mpimg\n",
    "image_path = 'demo2/demo0.jpg'\n",
    "\n",
    "# Set the desired figure size (e.g., (10, 8) inches)\n",
    "figsize = (3, 2)\n",
    "\n",
    "# Load and display the image using Matplotlib\n",
    "img = mpimg.imread(image_path)\n",
    "plt.figure(figsize=figsize)\n",
    "plt.imshow(img)\n",
    "plt.axis('off')  # Turn off axis labels if needed\n",
    "plt.show()"
   ]
  },
  {
   "cell_type": "code",
   "execution_count": 876,
   "id": "8c5302a3",
   "metadata": {},
   "outputs": [
    {
     "name": "stdout",
     "output_type": "stream",
     "text": [
      "Surprise\n"
     ]
    }
   ],
   "source": [
    "\n",
    "\n",
    "y_pred1 = []\n",
    "y_pred2= []\n",
    "y_pred3 = []\n",
    "y_true = []\n",
    "for inputs, labels in test_loader:\n",
    "        inputs, labels = inputs.to(device1), labels.to(device1)\n",
    "\n",
    "        output1 = model1(inputs) # Feed Network\n",
    "        \n",
    "        output1 = (torch.max(torch.exp(output1), 1)[1]).data.cpu().numpy()\n",
    "        y_pred1.extend(output1) # Save Prediction\n",
    "        inputs, labels = inputs.to(device2), labels.to(device2)\n",
    "        \n",
    "        output2 = model2(inputs) # Feed Network\n",
    "\n",
    "        output2 = (torch.max(torch.exp(output2), 1)[1]).data.cpu().numpy()\n",
    "        y_pred2.extend(output2) # Save Prediction\n",
    "        \n",
    "        inputs, labels = inputs.to(device3), labels.to(device3)\n",
    "\n",
    "        output3 = model3(inputs) # Feed Network\n",
    "\n",
    "        output3 = (torch.max(torch.exp(output3), 1)[1]).data.cpu().numpy()\n",
    "        y_pred3.extend(output3) # Save Prediction\n",
    "\n",
    "        \n",
    "        labels = labels.data.cpu().numpy()\n",
    "        y_true.extend(labels) # Save Truth\n",
    "result = vote([y_pred1, y_pred2, y_pred3])\n",
    "print(classes[result[0]])"
   ]
  },
  {
   "cell_type": "code",
   "execution_count": 878,
   "id": "a8645155",
   "metadata": {},
   "outputs": [],
   "source": [
    "test_dataset= Plain_Dataset(csv_file=\"demo.csv\", img_dir = \"demo3/\", datatype = 'demo', transform = transformation)\n",
    "test_loader=   DataLoader(test_dataset,batch_size=1,shuffle = True,num_workers=0)"
   ]
  },
  {
   "cell_type": "code",
   "execution_count": 879,
   "id": "b64135da",
   "metadata": {},
   "outputs": [
    {
     "data": {
      "image/png": "[encoded data removed]",
      "text/plain": [
       "<Figure size 300x200 with 1 Axes>"
      ]
     },
     "metadata": {},
     "output_type": "display_data"
    }
   ],
   "source": [
    "import matplotlib.pyplot as plt\n",
    "import matplotlib.image as mpimg\n",
    "image_path = 'demo3/demo0.jpg'\n",
    "\n",
    "# Set the desired figure size (e.g., (10, 8) inches)\n",
    "figsize = (3, 2)\n",
    "\n",
    "# Load and display the image using Matplotlib\n",
    "img = mpimg.imread(image_path)\n",
    "plt.figure(figsize=figsize)\n",
    "plt.imshow(img)\n",
    "plt.axis('off')  # Turn off axis labels if needed\n",
    "plt.show()"
   ]
  },
  {
   "cell_type": "code",
   "execution_count": 880,
   "id": "83122ce7",
   "metadata": {},
   "outputs": [
    {
     "name": "stdout",
     "output_type": "stream",
     "text": [
      "Surprise\n"
     ]
    }
   ],
   "source": [
    "\n",
    "\n",
    "y_pred1 = []\n",
    "y_pred2= []\n",
    "y_pred3 = []\n",
    "y_true = []\n",
    "for inputs, labels in test_loader:\n",
    "        inputs, labels = inputs.to(device1), labels.to(device1)\n",
    "\n",
    "        output1 = model1(inputs) # Feed Network\n",
    "        \n",
    "        output1 = (torch.max(torch.exp(output1), 1)[1]).data.cpu().numpy()\n",
    "        y_pred1.extend(output1) # Save Prediction\n",
    "        inputs, labels = inputs.to(device2), labels.to(device2)\n",
    "        \n",
    "        output2 = model2(inputs) # Feed Network\n",
    "\n",
    "        output2 = (torch.max(torch.exp(output2), 1)[1]).data.cpu().numpy()\n",
    "        y_pred2.extend(output2) # Save Prediction\n",
    "        \n",
    "        inputs, labels = inputs.to(device3), labels.to(device3)\n",
    "\n",
    "        output3 = model3(inputs) # Feed Network\n",
    "\n",
    "        output3 = (torch.max(torch.exp(output3), 1)[1]).data.cpu().numpy()\n",
    "        y_pred3.extend(output3) # Save Prediction\n",
    "\n",
    "        \n",
    "        labels = labels.data.cpu().numpy()\n",
    "        y_true.extend(labels) # Save Truth\n",
    "result = vote([y_pred1, y_pred2, y_pred3])\n",
    "print(classes[result[0]])"
   ]
  },
  {
   "cell_type": "code",
   "execution_count": 881,
   "id": "86da82a7",
   "metadata": {},
   "outputs": [],
   "source": [
    "test_dataset= Plain_Dataset(csv_file=\"demo.csv\", img_dir = \"demo4/\", datatype = 'demo', transform = transformation)\n",
    "test_loader=   DataLoader(test_dataset,batch_size=1,shuffle = True,num_workers=0)"
   ]
  },
  {
   "cell_type": "code",
   "execution_count": 882,
   "id": "5d095b78",
   "metadata": {},
   "outputs": [
    {
     "data": {
      "image/png": "[encoded data removed]",
      "text/plain": [
       "<Figure size 300x200 with 1 Axes>"
      ]
     },
     "metadata": {},
     "output_type": "display_data"
    }
   ],
   "source": [
    "import matplotlib.pyplot as plt\n",
    "import matplotlib.image as mpimg\n",
    "image_path = 'demo4/demo0.jpg'\n",
    "\n",
    "# Set the desired figure size (e.g., (10, 8) inches)\n",
    "figsize = (3, 2)\n",
    "\n",
    "# Load and display the image using Matplotlib\n",
    "img = mpimg.imread(image_path)\n",
    "plt.figure(figsize=figsize)\n",
    "plt.imshow(img)\n",
    "plt.axis('off')  # Turn off axis labels if needed\n",
    "plt.show()"
   ]
  },
  {
   "cell_type": "code",
   "execution_count": 883,
   "id": "0882b561",
   "metadata": {},
   "outputs": [
    {
     "name": "stdout",
     "output_type": "stream",
     "text": [
      "Neutral\n"
     ]
    }
   ],
   "source": [
    "\n",
    "\n",
    "y_pred1 = []\n",
    "y_pred2= []\n",
    "y_pred3 = []\n",
    "y_true = []\n",
    "for inputs, labels in test_loader:\n",
    "        inputs, labels = inputs.to(device1), labels.to(device1)\n",
    "\n",
    "        output1 = model1(inputs) # Feed Network\n",
    "        \n",
    "        output1 = (torch.max(torch.exp(output1), 1)[1]).data.cpu().numpy()\n",
    "        y_pred1.extend(output1) # Save Prediction\n",
    "        inputs, labels = inputs.to(device2), labels.to(device2)\n",
    "        \n",
    "        output2 = model2(inputs) # Feed Network\n",
    "\n",
    "        output2 = (torch.max(torch.exp(output2), 1)[1]).data.cpu().numpy()\n",
    "        y_pred2.extend(output2) # Save Prediction\n",
    "        \n",
    "        inputs, labels = inputs.to(device3), labels.to(device3)\n",
    "\n",
    "        output3 = model3(inputs) # Feed Network\n",
    "\n",
    "        output3 = (torch.max(torch.exp(output3), 1)[1]).data.cpu().numpy()\n",
    "        y_pred3.extend(output3) # Save Prediction\n",
    "\n",
    "        \n",
    "        labels = labels.data.cpu().numpy()\n",
    "        y_true.extend(labels) # Save Truth\n",
    "result = vote([y_pred1, y_pred2, y_pred3])\n",
    "print(classes[result[0]])"
   ]
  }
 ],
 "metadata": {
  "kernelspec": {
   "display_name": "Python 3 (ipykernel)",
   "language": "python",
   "name": "python3"
  },
  "language_info": {
   "codemirror_mode": {
    "name": "ipython",
    "version": 3
   },
   "file_extension": ".py",
   "mimetype": "text/x-python",
   "name": "python",
   "nbconvert_exporter": "python",
   "pygments_lexer": "ipython3",
   "version": "3.8.10"
  }
 },
 "nbformat": 4,
 "nbformat_minor": 5
}
